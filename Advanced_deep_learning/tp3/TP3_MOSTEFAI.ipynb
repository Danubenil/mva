{
 "cells": [
  {
   "cell_type": "markdown",
   "metadata": {
    "cell_ktag": "CTj5T8PSuiv4"
   },
   "source": [
    "# TP 3  : Graph Neural Networks Architecture\n",
    "\n",
    "**Théo Rudkiewicz, Cyriaque Rousselot**"
   ]
  },
  {
   "cell_type": "markdown",
   "metadata": {},
   "source": [
    "**TP completed by Nil-Dany MOSTEFAI**"
   ]
  },
  {
   "cell_type": "markdown",
   "metadata": {
    "cell_ktag": "CTj5T8PSuiv4"
   },
   "source": [
    "# TUTORIAL"
   ]
  },
  {
   "cell_type": "markdown",
   "metadata": {
    "cell_ktag": "CTj5T8PSuiv4"
   },
   "source": [
    "### Install Pytorch Geometric\n",
    "\n",
    "To handle graph data, we use the library Pytorch Geometric : https://pytorch-geometric.readthedocs.io/en/latest/\n",
    "\n",
    "*   If you use _Google Colab_, simply run the following cell to install Pytorch Geometric (**advised**).\n",
    "*   If you plan using your _own environment_, follow the documentation to install Pytorch Geometric : https://pytorch-geometric.readthedocs.io/en/latest/install/installation.html and skip the following cell."
   ]
  },
  {
   "cell_type": "code",
   "execution_count": 1,
   "metadata": {
    "cell_ktag": "CTj5T8PSuiv4",
    "scrolled": true
   },
   "outputs": [
    {
     "name": "stdout",
     "output_type": "stream",
     "text": [
      "Defaulting to user installation because normal site-packages is not writeable\n",
      "Looking in links: https://pytorch-geometric.com/whl/torch-2.6.0+cu118.html\n",
      "Collecting torch-scatter\n",
      "  Downloading torch_scatter-2.1.2.tar.gz (108 kB)\n",
      "  Preparing metadata (setup.py) ... \u001b[?25ldone\n",
      "\u001b[?25hBuilding wheels for collected packages: torch-scatter\n",
      "  Building wheel for torch-scatter (setup.py) ... \u001b[?25lerror\n",
      "  \u001b[1;31merror\u001b[0m: \u001b[1msubprocess-exited-with-error\u001b[0m\n",
      "  \n",
      "  \u001b[31m×\u001b[0m \u001b[32mpython setup.py bdist_wheel\u001b[0m did not run successfully.\n",
      "  \u001b[31m│\u001b[0m exit code: \u001b[1;36m1\u001b[0m\n",
      "  \u001b[31m╰─>\u001b[0m \u001b[31m[60 lines of output]\u001b[0m\n",
      "  \u001b[31m   \u001b[0m running bdist_wheel\n",
      "  \u001b[31m   \u001b[0m running build\n",
      "  \u001b[31m   \u001b[0m running build_py\n",
      "  \u001b[31m   \u001b[0m creating build\n",
      "  \u001b[31m   \u001b[0m creating build/lib.linux-x86_64-3.10\n",
      "  \u001b[31m   \u001b[0m creating build/lib.linux-x86_64-3.10/torch_scatter\n",
      "  \u001b[31m   \u001b[0m copying torch_scatter/placeholder.py -> build/lib.linux-x86_64-3.10/torch_scatter\n",
      "  \u001b[31m   \u001b[0m copying torch_scatter/segment_coo.py -> build/lib.linux-x86_64-3.10/torch_scatter\n",
      "  \u001b[31m   \u001b[0m copying torch_scatter/segment_csr.py -> build/lib.linux-x86_64-3.10/torch_scatter\n",
      "  \u001b[31m   \u001b[0m copying torch_scatter/__init__.py -> build/lib.linux-x86_64-3.10/torch_scatter\n",
      "  \u001b[31m   \u001b[0m copying torch_scatter/testing.py -> build/lib.linux-x86_64-3.10/torch_scatter\n",
      "  \u001b[31m   \u001b[0m copying torch_scatter/utils.py -> build/lib.linux-x86_64-3.10/torch_scatter\n",
      "  \u001b[31m   \u001b[0m copying torch_scatter/scatter.py -> build/lib.linux-x86_64-3.10/torch_scatter\n",
      "  \u001b[31m   \u001b[0m creating build/lib.linux-x86_64-3.10/torch_scatter/composite\n",
      "  \u001b[31m   \u001b[0m copying torch_scatter/composite/logsumexp.py -> build/lib.linux-x86_64-3.10/torch_scatter/composite\n",
      "  \u001b[31m   \u001b[0m copying torch_scatter/composite/std.py -> build/lib.linux-x86_64-3.10/torch_scatter/composite\n",
      "  \u001b[31m   \u001b[0m copying torch_scatter/composite/__init__.py -> build/lib.linux-x86_64-3.10/torch_scatter/composite\n",
      "  \u001b[31m   \u001b[0m copying torch_scatter/composite/softmax.py -> build/lib.linux-x86_64-3.10/torch_scatter/composite\n",
      "  \u001b[31m   \u001b[0m running egg_info\n",
      "  \u001b[31m   \u001b[0m writing torch_scatter.egg-info/PKG-INFO\n",
      "  \u001b[31m   \u001b[0m writing dependency_links to torch_scatter.egg-info/dependency_links.txt\n",
      "  \u001b[31m   \u001b[0m writing requirements to torch_scatter.egg-info/requires.txt\n",
      "  \u001b[31m   \u001b[0m writing top-level names to torch_scatter.egg-info/top_level.txt\n",
      "  \u001b[31m   \u001b[0m reading manifest file 'torch_scatter.egg-info/SOURCES.txt'\n",
      "  \u001b[31m   \u001b[0m reading manifest template 'MANIFEST.in'\n",
      "  \u001b[31m   \u001b[0m warning: no previously-included files matching '*' found under directory 'test'\n",
      "  \u001b[31m   \u001b[0m adding license file 'LICENSE'\n",
      "  \u001b[31m   \u001b[0m writing manifest file 'torch_scatter.egg-info/SOURCES.txt'\n",
      "  \u001b[31m   \u001b[0m running build_ext\n",
      "  \u001b[31m   \u001b[0m /home/danube/.local/lib/python3.10/site-packages/torch/utils/cpp_extension.py:448: UserWarning: The detected CUDA version (11.5) has a minor version mismatch with the version that was used to compile PyTorch (11.8). Most likely this shouldn't be a problem.\n",
      "  \u001b[31m   \u001b[0m   warnings.warn(CUDA_MISMATCH_WARN.format(cuda_str_version, torch.version.cuda))\n",
      "  \u001b[31m   \u001b[0m building 'torch_scatter._version_cpu' extension\n",
      "  \u001b[31m   \u001b[0m creating build/temp.linux-x86_64-3.10\n",
      "  \u001b[31m   \u001b[0m creating build/temp.linux-x86_64-3.10/csrc\n",
      "  \u001b[31m   \u001b[0m x86_64-linux-gnu-gcc -Wno-unused-result -Wsign-compare -DNDEBUG -g -fwrapv -O2 -Wall -g -fstack-protector-strong -Wformat -Werror=format-security -g -fwrapv -O2 -g -fstack-protector-strong -Wformat -Werror=format-security -Wdate-time -D_FORTIFY_SOURCE=2 -fPIC -DWITH_PYTHON -Icsrc -I/home/danube/.local/lib/python3.10/site-packages/torch/include -I/home/danube/.local/lib/python3.10/site-packages/torch/include/torch/csrc/api/include -I/home/danube/.local/lib/python3.10/site-packages/torch/include/TH -I/home/danube/.local/lib/python3.10/site-packages/torch/include/THC -I/usr/include/python3.10 -c csrc/version.cpp -o build/temp.linux-x86_64-3.10/csrc/version.o -O3 -Wno-sign-compare -DAT_PARALLEL_OPENMP -fopenmp -DTORCH_API_INCLUDE_EXTENSION_H -DPYBIND11_COMPILER_TYPE=\"_gcc\" -DPYBIND11_STDLIB=\"_libstdcpp\" -DPYBIND11_BUILD_ABI=\"_cxxabi1011\" -DTORCH_EXTENSION_NAME=_version_cpu -D_GLIBCXX_USE_CXX11_ABI=0 -std=c++17\n",
      "  \u001b[31m   \u001b[0m x86_64-linux-gnu-g++ -shared -Wl,-O1 -Wl,-Bsymbolic-functions -Wl,-Bsymbolic-functions -g -fwrapv -O2 -Wl,-Bsymbolic-functions -g -fwrapv -O2 -g -fstack-protector-strong -Wformat -Werror=format-security -Wdate-time -D_FORTIFY_SOURCE=2 build/temp.linux-x86_64-3.10/csrc/version.o -L/home/danube/.local/lib/python3.10/site-packages/torch/lib -lc10 -ltorch -ltorch_cpu -ltorch_python -o build/lib.linux-x86_64-3.10/torch_scatter/_version_cpu.so -s\n",
      "  \u001b[31m   \u001b[0m building 'torch_scatter._version_cuda' extension\n",
      "  \u001b[31m   \u001b[0m x86_64-linux-gnu-gcc -Wno-unused-result -Wsign-compare -DNDEBUG -g -fwrapv -O2 -Wall -g -fstack-protector-strong -Wformat -Werror=format-security -g -fwrapv -O2 -g -fstack-protector-strong -Wformat -Werror=format-security -Wdate-time -D_FORTIFY_SOURCE=2 -fPIC -DWITH_PYTHON -DWITH_CUDA -Icsrc -I/home/danube/.local/lib/python3.10/site-packages/torch/include -I/home/danube/.local/lib/python3.10/site-packages/torch/include/torch/csrc/api/include -I/home/danube/.local/lib/python3.10/site-packages/torch/include/TH -I/home/danube/.local/lib/python3.10/site-packages/torch/include/THC -I/usr/include/python3.10 -c csrc/version.cpp -o build/temp.linux-x86_64-3.10/csrc/version.o -O3 -Wno-sign-compare -DAT_PARALLEL_OPENMP -fopenmp -DTORCH_API_INCLUDE_EXTENSION_H -DPYBIND11_COMPILER_TYPE=\"_gcc\" -DPYBIND11_STDLIB=\"_libstdcpp\" -DPYBIND11_BUILD_ABI=\"_cxxabi1011\" -DTORCH_EXTENSION_NAME=_version_cuda -D_GLIBCXX_USE_CXX11_ABI=0 -std=c++17\n",
      "  \u001b[31m   \u001b[0m x86_64-linux-gnu-g++ -shared -Wl,-O1 -Wl,-Bsymbolic-functions -Wl,-Bsymbolic-functions -g -fwrapv -O2 -Wl,-Bsymbolic-functions -g -fwrapv -O2 -g -fstack-protector-strong -Wformat -Werror=format-security -Wdate-time -D_FORTIFY_SOURCE=2 build/temp.linux-x86_64-3.10/csrc/version.o -L/home/danube/.local/lib/python3.10/site-packages/torch/lib -lc10 -ltorch -ltorch_cpu -ltorch_python -lcudart -lc10_cuda -ltorch_cuda -o build/lib.linux-x86_64-3.10/torch_scatter/_version_cuda.so -s\n",
      "  \u001b[31m   \u001b[0m building 'torch_scatter._segment_csr_cpu' extension\n",
      "  \u001b[31m   \u001b[0m creating build/temp.linux-x86_64-3.10/csrc/cpu\n",
      "  \u001b[31m   \u001b[0m x86_64-linux-gnu-gcc -Wno-unused-result -Wsign-compare -DNDEBUG -g -fwrapv -O2 -Wall -g -fstack-protector-strong -Wformat -Werror=format-security -g -fwrapv -O2 -g -fstack-protector-strong -Wformat -Werror=format-security -Wdate-time -D_FORTIFY_SOURCE=2 -fPIC -DWITH_PYTHON -Icsrc -I/home/danube/.local/lib/python3.10/site-packages/torch/include -I/home/danube/.local/lib/python3.10/site-packages/torch/include/torch/csrc/api/include -I/home/danube/.local/lib/python3.10/site-packages/torch/include/TH -I/home/danube/.local/lib/python3.10/site-packages/torch/include/THC -I/usr/include/python3.10 -c csrc/cpu/segment_csr_cpu.cpp -o build/temp.linux-x86_64-3.10/csrc/cpu/segment_csr_cpu.o -O3 -Wno-sign-compare -DAT_PARALLEL_OPENMP -fopenmp -DTORCH_API_INCLUDE_EXTENSION_H -DPYBIND11_COMPILER_TYPE=\"_gcc\" -DPYBIND11_STDLIB=\"_libstdcpp\" -DPYBIND11_BUILD_ABI=\"_cxxabi1011\" -DTORCH_EXTENSION_NAME=_segment_csr_cpu -D_GLIBCXX_USE_CXX11_ABI=0 -std=c++17\n",
      "  \u001b[31m   \u001b[0m x86_64-linux-gnu-gcc -Wno-unused-result -Wsign-compare -DNDEBUG -g -fwrapv -O2 -Wall -g -fstack-protector-strong -Wformat -Werror=format-security -g -fwrapv -O2 -g -fstack-protector-strong -Wformat -Werror=format-security -Wdate-time -D_FORTIFY_SOURCE=2 -fPIC -DWITH_PYTHON -Icsrc -I/home/danube/.local/lib/python3.10/site-packages/torch/include -I/home/danube/.local/lib/python3.10/site-packages/torch/include/torch/csrc/api/include -I/home/danube/.local/lib/python3.10/site-packages/torch/include/TH -I/home/danube/.local/lib/python3.10/site-packages/torch/include/THC -I/usr/include/python3.10 -c csrc/segment_csr.cpp -o build/temp.linux-x86_64-3.10/csrc/segment_csr.o -O3 -Wno-sign-compare -DAT_PARALLEL_OPENMP -fopenmp -DTORCH_API_INCLUDE_EXTENSION_H -DPYBIND11_COMPILER_TYPE=\"_gcc\" -DPYBIND11_STDLIB=\"_libstdcpp\" -DPYBIND11_BUILD_ABI=\"_cxxabi1011\" -DTORCH_EXTENSION_NAME=_segment_csr_cpu -D_GLIBCXX_USE_CXX11_ABI=0 -std=c++17\n",
      "  \u001b[31m   \u001b[0m x86_64-linux-gnu-g++ -shared -Wl,-O1 -Wl,-Bsymbolic-functions -Wl,-Bsymbolic-functions -g -fwrapv -O2 -Wl,-Bsymbolic-functions -g -fwrapv -O2 -g -fstack-protector-strong -Wformat -Werror=format-security -Wdate-time -D_FORTIFY_SOURCE=2 build/temp.linux-x86_64-3.10/csrc/cpu/segment_csr_cpu.o build/temp.linux-x86_64-3.10/csrc/segment_csr.o -L/home/danube/.local/lib/python3.10/site-packages/torch/lib -lc10 -ltorch -ltorch_cpu -ltorch_python -o build/lib.linux-x86_64-3.10/torch_scatter/_segment_csr_cpu.so -s\n",
      "  \u001b[31m   \u001b[0m building 'torch_scatter._segment_csr_cuda' extension\n",
      "  \u001b[31m   \u001b[0m creating build/temp.linux-x86_64-3.10/csrc/cuda\n",
      "  \u001b[31m   \u001b[0m x86_64-linux-gnu-gcc -Wno-unused-result -Wsign-compare -DNDEBUG -g -fwrapv -O2 -Wall -g -fstack-protector-strong -Wformat -Werror=format-security -g -fwrapv -O2 -g -fstack-protector-strong -Wformat -Werror=format-security -Wdate-time -D_FORTIFY_SOURCE=2 -fPIC -DWITH_PYTHON -DWITH_CUDA -Icsrc -I/home/danube/.local/lib/python3.10/site-packages/torch/include -I/home/danube/.local/lib/python3.10/site-packages/torch/include/torch/csrc/api/include -I/home/danube/.local/lib/python3.10/site-packages/torch/include/TH -I/home/danube/.local/lib/python3.10/site-packages/torch/include/THC -I/usr/include/python3.10 -c csrc/cpu/segment_csr_cpu.cpp -o build/temp.linux-x86_64-3.10/csrc/cpu/segment_csr_cpu.o -O3 -Wno-sign-compare -DAT_PARALLEL_OPENMP -fopenmp -DTORCH_API_INCLUDE_EXTENSION_H -DPYBIND11_COMPILER_TYPE=\"_gcc\" -DPYBIND11_STDLIB=\"_libstdcpp\" -DPYBIND11_BUILD_ABI=\"_cxxabi1011\" -DTORCH_EXTENSION_NAME=_segment_csr_cuda -D_GLIBCXX_USE_CXX11_ABI=0 -std=c++17\n",
      "  \u001b[31m   \u001b[0m /home/danube/.local/lib/python3.10/site-packages/torch/utils/cpp_extension.py:2059: UserWarning: TORCH_CUDA_ARCH_LIST is not set, all archs for visible cards are included for compilation.\n",
      "  \u001b[31m   \u001b[0m If this is not desired, please set os.environ['TORCH_CUDA_ARCH_LIST'].\n",
      "  \u001b[31m   \u001b[0m   warnings.warn(\n",
      "  \u001b[31m   \u001b[0m /usr/bin/nvcc -DWITH_PYTHON -DWITH_CUDA -Icsrc -I/home/danube/.local/lib/python3.10/site-packages/torch/include -I/home/danube/.local/lib/python3.10/site-packages/torch/include/torch/csrc/api/include -I/home/danube/.local/lib/python3.10/site-packages/torch/include/TH -I/home/danube/.local/lib/python3.10/site-packages/torch/include/THC -I/usr/include/python3.10 -c csrc/cuda/segment_csr_cuda.cu -o build/temp.linux-x86_64-3.10/csrc/cuda/segment_csr_cuda.o -D__CUDA_NO_HALF_OPERATORS__ -D__CUDA_NO_HALF_CONVERSIONS__ -D__CUDA_NO_BFLOAT16_CONVERSIONS__ -D__CUDA_NO_HALF2_OPERATORS__ --expt-relaxed-constexpr --compiler-options '-fPIC' -O3 --expt-relaxed-constexpr -DTORCH_API_INCLUDE_EXTENSION_H -DPYBIND11_COMPILER_TYPE=\"_gcc\" -DPYBIND11_STDLIB=\"_libstdcpp\" -DPYBIND11_BUILD_ABI=\"_cxxabi1011\" -DTORCH_EXTENSION_NAME=_segment_csr_cuda -D_GLIBCXX_USE_CXX11_ABI=0 -gencode=arch=compute_75,code=compute_75 -gencode=arch=compute_75,code=sm_75 -std=c++17\n",
      "  \u001b[31m   \u001b[0m /usr/include/c++/11/bits/std_function.h:435:145: error: parameter packs not expanded with ‘...’:\n",
      "  \u001b[31m   \u001b[0m   435 |         function(_Functor&& __f)\n",
      "  \u001b[31m   \u001b[0m       |                                                                                                                                                 ^\n",
      "  \u001b[31m   \u001b[0m /usr/include/c++/11/bits/std_function.h:435:145: note:         ‘_ArgTypes’\n",
      "  \u001b[31m   \u001b[0m /usr/include/c++/11/bits/std_function.h:530:146: error: parameter packs not expanded with ‘...’:\n",
      "  \u001b[31m   \u001b[0m   530 |         operator=(_Functor&& __f)\n",
      "  \u001b[31m   \u001b[0m       |                                                                                                                                                  ^\n",
      "  \u001b[31m   \u001b[0m /usr/include/c++/11/bits/std_function.h:530:146: note:         ‘_ArgTypes’\n",
      "  \u001b[31m   \u001b[0m error: command '/usr/bin/nvcc' failed with exit code 1\n",
      "  \u001b[31m   \u001b[0m \u001b[31m[end of output]\u001b[0m\n",
      "  \n",
      "  \u001b[1;35mnote\u001b[0m: This error originates from a subprocess, and is likely not a problem with pip.\n",
      "\u001b[31m  ERROR: Failed building wheel for torch-scatter\u001b[0m\u001b[31m\n",
      "\u001b[0m\u001b[?25h  Running setup.py clean for torch-scatter\n",
      "Failed to build torch-scatter\n",
      "\u001b[31mERROR: Failed to build installable wheels for some pyproject.toml based projects (torch-scatter)\u001b[0m\u001b[31m\n",
      "\u001b[0mDefaulting to user installation because normal site-packages is not writeable\n",
      "Looking in links: https://pytorch-geometric.com/whl/torch-2.6.0+cu118.html\n",
      "Collecting torch-sparse\n",
      "  Downloading torch_sparse-0.6.18.tar.gz (209 kB)\n",
      "  Preparing metadata (setup.py) ... \u001b[?25ldone\n",
      "\u001b[?25hRequirement already satisfied: scipy in /home/danube/.local/lib/python3.10/site-packages (from torch-sparse) (1.14.0)\n",
      "Requirement already satisfied: numpy<2.3,>=1.23.5 in /home/danube/.local/lib/python3.10/site-packages (from scipy->torch-sparse) (1.25.0)\n",
      "Building wheels for collected packages: torch-sparse\n",
      "  Building wheel for torch-sparse (setup.py) ... \u001b[?25l|^C\n",
      "\u001b[?25canceled\n",
      "\u001b[31mERROR: Operation cancelled by user\u001b[0m\u001b[31m\n",
      "\u001b[0mDefaulting to user installation because normal site-packages is not writeable\n",
      "Looking in links: https://pytorch-geometric.com/whl/torch-2.6.0+cu118.html\n",
      "Collecting torch-cluster\n",
      "  Downloading torch_cluster-1.6.3.tar.gz (54 kB)\n",
      "^C\n",
      "  Preparing metadata (setup.py) ... \u001b[?25l\u001b[?25hcanceled\n",
      "\u001b[31mERROR: Operation cancelled by user\u001b[0m\u001b[31m\n",
      "\u001b[0m^C\n",
      "Traceback (most recent call last):\n",
      "  File \"/home/danube/.local/bin/pip\", line 8, in <module>\n",
      "    sys.exit(main())\n",
      "  File \"/home/danube/.local/lib/python3.10/site-packages/pip/_internal/cli/main.py\", line 78, in main\n",
      "    command = create_command(cmd_name, isolated=(\"--isolated\" in cmd_args))\n",
      "  File \"/home/danube/.local/lib/python3.10/site-packages/pip/_internal/commands/__init__.py\", line 114, in create_command\n",
      "    module = importlib.import_module(module_path)\n",
      "  File \"/usr/lib/python3.10/importlib/__init__.py\", line 126, in import_module\n",
      "    return _bootstrap._gcd_import(name[level:], package, level)\n",
      "  File \"<frozen importlib._bootstrap>\", line 1050, in _gcd_import\n",
      "  File \"<frozen importlib._bootstrap>\", line 1027, in _find_and_load\n",
      "  File \"<frozen importlib._bootstrap>\", line 1006, in _find_and_load_unlocked\n",
      "  File \"<frozen importlib._bootstrap>\", line 688, in _load_unlocked\n",
      "  File \"<frozen importlib._bootstrap_external>\", line 883, in exec_module\n",
      "  File \"<frozen importlib._bootstrap>\", line 241, in _call_with_frames_removed\n",
      "  File \"/home/danube/.local/lib/python3.10/site-packages/pip/_internal/commands/install.py\", line 19, in <module>\n",
      "    import pip._internal.self_outdated_check  # noqa: F401\n",
      "  File \"/home/danube/.local/lib/python3.10/site-packages/pip/_internal/self_outdated_check.py\", line 18, in <module>\n",
      "    from pip._internal.index.collector import LinkCollector\n",
      "  File \"/home/danube/.local/lib/python3.10/site-packages/pip/_internal/index/collector.py\", line 31, in <module>\n",
      "    from pip._vendor import requests\n",
      "  File \"/home/danube/.local/lib/python3.10/site-packages/pip/_vendor/requests/__init__.py\", line 43, in <module>\n",
      "    from pip._vendor import urllib3\n",
      "  File \"/home/danube/.local/lib/python3.10/site-packages/pip/_vendor/urllib3/__init__.py\", line 13, in <module>\n",
      "    from .connectionpool import HTTPConnectionPool, HTTPSConnectionPool, connection_from_url\n",
      "  File \"/home/danube/.local/lib/python3.10/site-packages/pip/_vendor/urllib3/connectionpool.py\", line 40, in <module>\n",
      "    from .request import RequestMethods\n",
      "  File \"/home/danube/.local/lib/python3.10/site-packages/pip/_vendor/urllib3/request.py\", line 5, in <module>\n",
      "    from .filepost import encode_multipart_formdata\n",
      "  File \"/home/danube/.local/lib/python3.10/site-packages/pip/_vendor/urllib3/filepost.py\", line 8, in <module>\n",
      "    from .fields import RequestField\n",
      "  File \"/home/danube/.local/lib/python3.10/site-packages/pip/_vendor/urllib3/fields.py\", line 4, in <module>\n",
      "    import mimetypes\n",
      "  File \"/usr/lib/python3.10/mimetypes.py\", line 37, in <module>\n",
      "    import winreg as _winreg\n",
      "  File \"<frozen importlib._bootstrap>\", line 1027, in _find_and_load\n",
      "  File \"<frozen importlib._bootstrap>\", line 1002, in _find_and_load_unlocked\n",
      "  File \"<frozen importlib._bootstrap>\", line 937, in _find_spec\n",
      "  File \"<frozen importlib._bootstrap>\", line 899, in __exit__\n",
      "KeyboardInterrupt\n",
      "^C\n",
      "Traceback (most recent call last):\n",
      "  File \"/home/danube/.local/bin/pip\", line 8, in <module>\n",
      "    sys.exit(main())\n",
      "  File \"/home/danube/.local/lib/python3.10/site-packages/pip/_internal/cli/main.py\", line 78, in main\n",
      "    command = create_command(cmd_name, isolated=(\"--isolated\" in cmd_args))\n",
      "  File \"/home/danube/.local/lib/python3.10/site-packages/pip/_internal/commands/__init__.py\", line 114, in create_command\n",
      "    module = importlib.import_module(module_path)\n",
      "  File \"/usr/lib/python3.10/importlib/__init__.py\", line 126, in import_module\n",
      "    return _bootstrap._gcd_import(name[level:], package, level)\n",
      "  File \"<frozen importlib._bootstrap>\", line 1050, in _gcd_import\n",
      "  File \"<frozen importlib._bootstrap>\", line 1027, in _find_and_load\n",
      "  File \"<frozen importlib._bootstrap>\", line 1006, in _find_and_load_unlocked\n",
      "  File \"<frozen importlib._bootstrap>\", line 688, in _load_unlocked\n",
      "  File \"<frozen importlib._bootstrap_external>\", line 883, in exec_module\n",
      "  File \"<frozen importlib._bootstrap>\", line 241, in _call_with_frames_removed\n",
      "  File \"/home/danube/.local/lib/python3.10/site-packages/pip/_internal/commands/install.py\", line 19, in <module>\n",
      "    import pip._internal.self_outdated_check  # noqa: F401\n",
      "  File \"/home/danube/.local/lib/python3.10/site-packages/pip/_internal/self_outdated_check.py\", line 18, in <module>\n",
      "    from pip._internal.index.collector import LinkCollector\n",
      "  File \"/home/danube/.local/lib/python3.10/site-packages/pip/_internal/index/collector.py\", line 31, in <module>\n",
      "    from pip._vendor import requests\n",
      "  File \"/home/danube/.local/lib/python3.10/site-packages/pip/_vendor/requests/__init__.py\", line 159, in <module>\n",
      "    from .api import delete, get, head, options, patch, post, put, request\n",
      "  File \"/home/danube/.local/lib/python3.10/site-packages/pip/_vendor/requests/api.py\", line 11, in <module>\n",
      "    from . import sessions\n",
      "  File \"/home/danube/.local/lib/python3.10/site-packages/pip/_vendor/requests/sessions.py\", line 15, in <module>\n",
      "    from .adapters import HTTPAdapter\n",
      "  File \"/home/danube/.local/lib/python3.10/site-packages/pip/_vendor/requests/adapters.py\", line 81, in <module>\n",
      "    _preloaded_ssl_context.load_verify_locations(\n",
      "KeyboardInterrupt\n"
     ]
    }
   ],
   "source": [
    "########## INSTALL TORCH GEOMETRIC ##################\n",
    "# https://pytorch-geometric.readthedocs.io/en/latest/\n",
    "#####################################################\n",
    "import torch\n",
    "\n",
    "\n",
    "def format_pytorch_version(version):\n",
    "    return version.split(\"+\")[0]\n",
    "\n",
    "\n",
    "TORCH_version = torch.__version__\n",
    "TORCH = format_pytorch_version(TORCH_version)\n",
    "\n",
    "\n",
    "def format_cuda_version(version):\n",
    "    return \"cu\" + version.replace(\".\", \"\")\n",
    "\n",
    "\n",
    "CUDA_version = torch.version.cuda\n",
    "CUDA = format_cuda_version(CUDA_version)\n",
    "\n",
    "!pip install torch-scatter     -f https://pytorch-geometric.com/whl/torch-{TORCH}+{CUDA}.html\n",
    "!pip install torch-sparse      -f https://pytorch-geometric.com/whl/torch-{TORCH}+{CUDA}.html\n",
    "!pip install torch-cluster     -f https://pytorch-geometric.com/whl/torch-{TORCH}+{CUDA}.html\n",
    "!pip install torch-spline-conv -f https://pytorch-geometric.com/whl/torch-{TORCH}+{CUDA}.html\n",
    "!pip install torch-geometric\n"
   ]
  },
  {
   "cell_type": "code",
   "execution_count": 2,
   "metadata": {},
   "outputs": [
    {
     "name": "stdout",
     "output_type": "stream",
     "text": [
      "Defaulting to user installation because normal site-packages is not writeable\n",
      "Collecting torch_geometric\n",
      "  Downloading torch_geometric-2.6.1-py3-none-any.whl.metadata (63 kB)\n",
      "Requirement already satisfied: aiohttp in /home/danube/.local/lib/python3.10/site-packages (from torch_geometric) (3.10.3)\n",
      "Requirement already satisfied: fsspec in /home/danube/.local/lib/python3.10/site-packages (from torch_geometric) (2024.6.1)\n",
      "Requirement already satisfied: jinja2 in /home/danube/.local/lib/python3.10/site-packages (from torch_geometric) (3.1.4)\n",
      "Requirement already satisfied: numpy in /home/danube/.local/lib/python3.10/site-packages (from torch_geometric) (1.25.0)\n",
      "Requirement already satisfied: psutil>=5.8.0 in /usr/local/lib/python3.10/dist-packages (from torch_geometric) (6.0.0)\n",
      "Requirement already satisfied: pyparsing in /usr/lib/python3/dist-packages (from torch_geometric) (2.4.7)\n",
      "Requirement already satisfied: requests in /home/danube/.local/lib/python3.10/site-packages (from torch_geometric) (2.32.3)\n",
      "Requirement already satisfied: tqdm in /home/danube/.local/lib/python3.10/site-packages (from torch_geometric) (4.66.5)\n",
      "Requirement already satisfied: aiohappyeyeballs>=2.3.0 in /home/danube/.local/lib/python3.10/site-packages (from aiohttp->torch_geometric) (2.3.6)\n",
      "Requirement already satisfied: aiosignal>=1.1.2 in /home/danube/.local/lib/python3.10/site-packages (from aiohttp->torch_geometric) (1.3.1)\n",
      "Requirement already satisfied: attrs>=17.3.0 in /home/danube/.local/lib/python3.10/site-packages (from aiohttp->torch_geometric) (24.2.0)\n",
      "Requirement already satisfied: frozenlist>=1.1.1 in /home/danube/.local/lib/python3.10/site-packages (from aiohttp->torch_geometric) (1.4.1)\n",
      "Requirement already satisfied: multidict<7.0,>=4.5 in /home/danube/.local/lib/python3.10/site-packages (from aiohttp->torch_geometric) (6.0.5)\n",
      "Requirement already satisfied: yarl<2.0,>=1.0 in /home/danube/.local/lib/python3.10/site-packages (from aiohttp->torch_geometric) (1.9.4)\n",
      "Requirement already satisfied: async-timeout<5.0,>=4.0 in /home/danube/.local/lib/python3.10/site-packages (from aiohttp->torch_geometric) (4.0.3)\n",
      "Requirement already satisfied: MarkupSafe>=2.0 in /home/danube/.local/lib/python3.10/site-packages (from jinja2->torch_geometric) (2.1.5)\n",
      "Requirement already satisfied: charset-normalizer<4,>=2 in /home/danube/.local/lib/python3.10/site-packages (from requests->torch_geometric) (3.3.2)\n",
      "Requirement already satisfied: idna<4,>=2.5 in /home/danube/.local/lib/python3.10/site-packages (from requests->torch_geometric) (3.7)\n",
      "Requirement already satisfied: urllib3<3,>=1.21.1 in /home/danube/.local/lib/python3.10/site-packages (from requests->torch_geometric) (2.2.2)\n",
      "Requirement already satisfied: certifi>=2017.4.17 in /home/danube/.local/lib/python3.10/site-packages (from requests->torch_geometric) (2024.7.4)\n",
      "Downloading torch_geometric-2.6.1-py3-none-any.whl (1.1 MB)\n",
      "\u001b[2K   \u001b[90m━━━━━━━━━━━━━━━━━━━━━━━━━━━━━━━━━━━━━━━━\u001b[0m \u001b[32m1.1/1.1 MB\u001b[0m \u001b[31m18.7 MB/s\u001b[0m eta \u001b[36m0:00:00\u001b[0m\n",
      "\u001b[?25hInstalling collected packages: torch_geometric\n",
      "Successfully installed torch_geometric-2.6.1\n"
     ]
    }
   ],
   "source": [
    "! pip install torch_geometric"
   ]
  },
  {
   "cell_type": "markdown",
   "metadata": {
    "cell_ktag": "CTj5T8PSuiv4"
   },
   "source": [
    "### Import required packages\n",
    "\n",
    "Run the following cell to import all required packages. This cell **must not** be modified.\n",
    "\n",
    "To significantly accelerate your training, it is advised to use GPU. Using Google Colab, you need to activate it : \n",
    "\n",
    "*   Edit --> Notebook Setting --> Hardware accelerator --> GPU"
   ]
  },
  {
   "cell_type": "code",
   "execution_count": 1,
   "metadata": {
    "cell_ktag": "CTj5T8PSuiv4"
   },
   "outputs": [],
   "source": [
    "#####################################################\n",
    "################## PACKAGES #########################\n",
    "#####################################################\n",
    "import numpy as np\n",
    "import matplotlib.pyplot as plt\n",
    "\n",
    "import torch.nn as nn\n",
    "import torch_geometric.nn as graphnn\n",
    "from sklearn.metrics import f1_score\n",
    "from torch_geometric.datasets import PPI\n",
    "from torch_geometric.loader import DataLoader"
   ]
  },
  {
   "cell_type": "markdown",
   "metadata": {
    "cell_ktag": "CTj5T8PSuiv4"
   },
   "source": [
    "### Dataset\n",
    "\n",
    "We use the Protein-Protein Interaction (PPI) network dataset which includes:\n",
    "- 20 graphs for training \n",
    "- 2 graphs for validation\n",
    "- 2 graphs for testing\n",
    "\n",
    "One graph of the PPI dataset has on average 2372 nodes. Each node has:\n",
    "- 50 features : positional gene sets / motif gene / immunological signatures ...\n",
    "- 121 (binary) labels : gene ontology sets (way to classify gene products like proteins).\n",
    "\n",
    "**This problem aims to predict, for a given PPI graph, the correct nodes' labels**.\n",
    "\n",
    "**It is a node (multi-label) classification task** (trained using supervised learning, with labels to be predicted for each node). \n",
    "\n",
    "For your curiosity, more detailed information on the dataset and some applications:\n",
    "- https://cs.stanford.edu/~jure/pubs/pathways-psb18.pdf\n",
    "- https://arxiv.org/abs/1707.04638\n",
    "\n",
    "To understand how a graph data is implemented in Pytorch Geometric, refer to : https://pytorch-geometric.readthedocs.io/en/latest/get_started/introduction.html\n"
   ]
  },
  {
   "cell_type": "code",
   "execution_count": 2,
   "metadata": {
    "cell_ktag": "CTj5T8PSuiv4"
   },
   "outputs": [
    {
     "name": "stdout",
     "output_type": "stream",
     "text": [
      "Number of samples in the train dataset:  20\n",
      "Number of samples in the val dataset:  2\n",
      "Number of samples in the test dataset:  2\n",
      "Output of one sample from the train dataset:  Data(x=[1767, 50], edge_index=[2, 32318], y=[1767, 121])\n",
      "Edge_index :\n",
      "tensor([[   0,    0,    0,  ..., 1744, 1745, 1749],\n",
      "        [ 372, 1101,  766,  ..., 1745, 1744, 1739]])\n",
      "Number of features per node:  50\n",
      "Number of classes per node:  121\n"
     ]
    }
   ],
   "source": [
    "### LOAD DATASETS\n",
    "\n",
    "BATCH_SIZE = 2\n",
    "\n",
    "# Train Dataset\n",
    "train_dataset = PPI(root=\"\", split=\"train\")\n",
    "train_dataloader = DataLoader(train_dataset, batch_size=BATCH_SIZE)\n",
    "# Val Dataset\n",
    "val_dataset = PPI(root=\"\", split=\"val\")\n",
    "val_dataloader = DataLoader(val_dataset, batch_size=BATCH_SIZE)\n",
    "# Test Dataset\n",
    "test_dataset = PPI(root=\"\", split=\"test\")\n",
    "test_dataloader = DataLoader(test_dataset, batch_size=BATCH_SIZE)\n",
    "\n",
    "# Number of features and classes\n",
    "n_features, n_classes = train_dataset[0].x.shape[1], train_dataset[0].y.shape[1]\n",
    "\n",
    "print(\"Number of samples in the train dataset: \", len(train_dataset))\n",
    "print(\"Number of samples in the val dataset: \", len(test_dataset))\n",
    "print(\"Number of samples in the test dataset: \", len(test_dataset))\n",
    "print(\"Output of one sample from the train dataset: \", train_dataset[0])\n",
    "print(\"Edge_index :\")\n",
    "print(train_dataset[0].edge_index)\n",
    "print(\"Number of features per node: \", n_features)\n",
    "print(\"Number of classes per node: \", n_classes)"
   ]
  },
  {
   "cell_type": "markdown",
   "metadata": {
    "cell_ktag": "CTj5T8PSuiv4"
   },
   "source": [
    "### Define a basic Model"
   ]
  },
  {
   "cell_type": "markdown",
   "metadata": {
    "cell_ktag": "CTj5T8PSuiv4"
   },
   "source": [
    "Here we define a very simple Graph Neural Network model which will be used as our baseline. This model consists of three graph convolutional layers (from https://arxiv.org/pdf/1609.02907.pdf). The first two layers computes 256 features, followed by an ELU activation function. The last layer is used for (multi-label) classification task, computing 121 features (for each node)."
   ]
  },
  {
   "cell_type": "code",
   "execution_count": 3,
   "metadata": {
    "cell_ktag": "CTj5T8PSuiv4"
   },
   "outputs": [],
   "source": [
    "#####################################################\n",
    "################## MODEL ############################\n",
    "#####################################################\n",
    "class BasicGraphModel(nn.Module):\n",
    "    def __init__(self, input_size, hidden_size, output_size):\n",
    "        super().__init__()\n",
    "\n",
    "        self.graphconv1 = graphnn.GCNConv(input_size, hidden_size)\n",
    "        self.graphconv2 = graphnn.GCNConv(hidden_size, hidden_size)\n",
    "        self.graphconv3 = graphnn.GCNConv(hidden_size, output_size)\n",
    "\n",
    "        self.elu = nn.ELU()\n",
    "\n",
    "    def forward(self, x, edge_index):\n",
    "        x = self.graphconv1(x, edge_index)\n",
    "        x = self.elu(x)\n",
    "        x = self.graphconv2(x, edge_index)\n",
    "        x = self.elu(x)\n",
    "        x = self.graphconv3(x, edge_index)\n",
    "\n",
    "        return x"
   ]
  },
  {
   "cell_type": "markdown",
   "metadata": {
    "cell_ktag": "CTj5T8PSuiv4"
   },
   "source": [
    "Next function is designed to evaluate the performance of the model, computing the F1-Score"
   ]
  },
  {
   "cell_type": "code",
   "execution_count": 14,
   "metadata": {
    "cell_ktag": "CTj5T8PSuiv4"
   },
   "outputs": [],
   "source": [
    "#####################################################\n",
    "############### TEST FUNCTION #######################\n",
    "#####################################################\n",
    "def evaluate(model, loss_fcn, device, dataloader):\n",
    "    score_list_batch = []\n",
    "\n",
    "    model.eval()\n",
    "    for i, batch in enumerate(dataloader):\n",
    "        batch = batch.to(device)\n",
    "        output = model(batch.x, batch.edge_index)\n",
    "        loss_test = loss_fcn(output, batch.y)\n",
    "        predict = np.where(output.detach().cpu().numpy() >= 0, 1, 0)\n",
    "        score = f1_score(batch.y.cpu().numpy(), predict, average=\"micro\")\n",
    "        score_list_batch.append(score)\n",
    "\n",
    "    return np.array(score_list_batch).mean()"
   ]
  },
  {
   "cell_type": "markdown",
   "metadata": {
    "cell_ktag": "CTj5T8PSuiv4"
   },
   "source": [
    "Next we construct the function to train the model."
   ]
  },
  {
   "cell_type": "code",
   "execution_count": 117,
   "metadata": {
    "cell_ktag": "CTj5T8PSuiv4"
   },
   "outputs": [],
   "source": [
    "#####################################################\n",
    "############## TRAIN FUNCTION #######################\n",
    "#####################################################\n",
    "def train(model, loss_fcn, device, optimizer, max_epochs, train_dataloader, val_dataloader):\n",
    "    epoch_list = []\n",
    "    scores_list = []\n",
    "\n",
    "    # loop over epochs\n",
    "    for epoch in range(max_epochs):\n",
    "        model.train()\n",
    "        losses = []\n",
    "        # loop over batches\n",
    "        for i, train_batch in enumerate(train_dataloader):\n",
    "\n",
    "            optimizer.zero_grad()\n",
    "            train_batch_device = train_batch.to(device)\n",
    "            # logits is the output of the model\n",
    "            logits = model(train_batch_device.x, train_batch_device.edge_index)\n",
    "            # compute the loss\n",
    "            loss = loss_fcn(logits, train_batch_device.y)\n",
    "            # optimizer step\n",
    "            loss.backward()\n",
    "            optimizer.step()\n",
    "            losses.append(loss.item())\n",
    "        loss_data = np.array(losses).mean()\n",
    "        print(\"Epoch {:05d} | Loss: {:.4f}\".format(epoch + 1, loss_data))\n",
    "\n",
    "        if epoch % 5 == 0:\n",
    "            # evaluate the model on the validation set\n",
    "            # computes the f1-score (see next function)\n",
    "            score = evaluate(model, loss_fcn, device, val_dataloader)\n",
    "            print(\"F1-Score: {:.4f}\".format(score))\n",
    "            scores_list.append(score)\n",
    "            epoch_list.append(epoch)\n",
    "\n",
    "    return epoch_list, scores_list"
   ]
  },
  {
   "cell_type": "markdown",
   "metadata": {
    "cell_ktag": "CTj5T8PSuiv4"
   },
   "source": [
    "Let's train this model !"
   ]
  },
  {
   "cell_type": "code",
   "execution_count": 8,
   "metadata": {
    "cell_ktag": "CTj5T8PSuiv4"
   },
   "outputs": [
    {
     "name": "stdout",
     "output_type": "stream",
     "text": [
      "\n",
      "Device:  cuda\n",
      "Epoch 00001 | Loss: 0.6366\n",
      "F1-Score: 0.4534\n",
      "Epoch 00002 | Loss: 0.5800\n",
      "Epoch 00003 | Loss: 0.5622\n",
      "Epoch 00004 | Loss: 0.5548\n",
      "Epoch 00005 | Loss: 0.5504\n",
      "Epoch 00006 | Loss: 0.5455\n",
      "F1-Score: 0.5153\n",
      "Epoch 00007 | Loss: 0.5419\n",
      "Epoch 00008 | Loss: 0.5380\n",
      "Epoch 00009 | Loss: 0.5341\n",
      "Epoch 00010 | Loss: 0.5310\n",
      "Epoch 00011 | Loss: 0.5283\n",
      "F1-Score: 0.5148\n",
      "Epoch 00012 | Loss: 0.5257\n",
      "Epoch 00013 | Loss: 0.5232\n",
      "Epoch 00014 | Loss: 0.5209\n",
      "Epoch 00015 | Loss: 0.5186\n",
      "Epoch 00016 | Loss: 0.5163\n",
      "F1-Score: 0.5337\n",
      "Epoch 00017 | Loss: 0.5140\n",
      "Epoch 00018 | Loss: 0.5118\n",
      "Epoch 00019 | Loss: 0.5096\n",
      "Epoch 00020 | Loss: 0.5076\n",
      "Epoch 00021 | Loss: 0.5055\n",
      "F1-Score: 0.5466\n",
      "Epoch 00022 | Loss: 0.5035\n",
      "Epoch 00023 | Loss: 0.5016\n",
      "Epoch 00024 | Loss: 0.4998\n",
      "Epoch 00025 | Loss: 0.4982\n",
      "Epoch 00026 | Loss: 0.4969\n",
      "F1-Score: 0.5551\n",
      "Epoch 00027 | Loss: 0.4959\n",
      "Epoch 00028 | Loss: 0.4956\n",
      "Epoch 00029 | Loss: 0.4958\n",
      "Epoch 00030 | Loss: 0.4940\n",
      "Epoch 00031 | Loss: 0.4914\n",
      "F1-Score: 0.5402\n",
      "Epoch 00032 | Loss: 0.4891\n",
      "Epoch 00033 | Loss: 0.4865\n",
      "Epoch 00034 | Loss: 0.4843\n",
      "Epoch 00035 | Loss: 0.4827\n",
      "Epoch 00036 | Loss: 0.4812\n",
      "F1-Score: 0.5533\n",
      "Epoch 00037 | Loss: 0.4798\n",
      "Epoch 00038 | Loss: 0.4783\n",
      "Epoch 00039 | Loss: 0.4764\n",
      "Epoch 00040 | Loss: 0.4752\n",
      "Epoch 00041 | Loss: 0.4739\n",
      "F1-Score: 0.5391\n",
      "Epoch 00042 | Loss: 0.4723\n",
      "Epoch 00043 | Loss: 0.4708\n",
      "Epoch 00044 | Loss: 0.4700\n",
      "Epoch 00045 | Loss: 0.4690\n",
      "Epoch 00046 | Loss: 0.4681\n",
      "F1-Score: 0.5661\n",
      "Epoch 00047 | Loss: 0.4662\n",
      "Epoch 00048 | Loss: 0.4650\n",
      "Epoch 00049 | Loss: 0.4640\n",
      "Epoch 00050 | Loss: 0.4636\n",
      "Epoch 00051 | Loss: 0.4633\n",
      "F1-Score: 0.5889\n",
      "Epoch 00052 | Loss: 0.4626\n",
      "Epoch 00053 | Loss: 0.4619\n",
      "Epoch 00054 | Loss: 0.4611\n",
      "Epoch 00055 | Loss: 0.4600\n",
      "Epoch 00056 | Loss: 0.4594\n",
      "F1-Score: 0.5887\n",
      "Epoch 00057 | Loss: 0.4584\n",
      "Epoch 00058 | Loss: 0.4569\n",
      "Epoch 00059 | Loss: 0.4566\n",
      "Epoch 00060 | Loss: 0.4555\n",
      "Epoch 00061 | Loss: 0.4538\n",
      "F1-Score: 0.5705\n",
      "Epoch 00062 | Loss: 0.4532\n",
      "Epoch 00063 | Loss: 0.4532\n",
      "Epoch 00064 | Loss: 0.4523\n",
      "Epoch 00065 | Loss: 0.4508\n",
      "Epoch 00066 | Loss: 0.4507\n",
      "F1-Score: 0.5635\n",
      "Epoch 00067 | Loss: 0.4497\n",
      "Epoch 00068 | Loss: 0.4476\n",
      "Epoch 00069 | Loss: 0.4464\n",
      "Epoch 00070 | Loss: 0.4462\n",
      "Epoch 00071 | Loss: 0.4462\n",
      "F1-Score: 0.5593\n",
      "Epoch 00072 | Loss: 0.4462\n",
      "Epoch 00073 | Loss: 0.4455\n",
      "Epoch 00074 | Loss: 0.4463\n",
      "Epoch 00075 | Loss: 0.4456\n",
      "Epoch 00076 | Loss: 0.4452\n",
      "F1-Score: 0.5954\n",
      "Epoch 00077 | Loss: 0.4461\n",
      "Epoch 00078 | Loss: 0.4469\n",
      "Epoch 00079 | Loss: 0.4459\n",
      "Epoch 00080 | Loss: 0.4444\n",
      "Epoch 00081 | Loss: 0.4428\n",
      "F1-Score: 0.5995\n",
      "Epoch 00082 | Loss: 0.4421\n",
      "Epoch 00083 | Loss: 0.4394\n",
      "Epoch 00084 | Loss: 0.4385\n",
      "Epoch 00085 | Loss: 0.4372\n",
      "Epoch 00086 | Loss: 0.4360\n",
      "F1-Score: 0.5875\n",
      "Epoch 00087 | Loss: 0.4356\n",
      "Epoch 00088 | Loss: 0.4360\n",
      "Epoch 00089 | Loss: 0.4354\n",
      "Epoch 00090 | Loss: 0.4352\n",
      "Epoch 00091 | Loss: 0.4340\n",
      "F1-Score: 0.6057\n",
      "Epoch 00092 | Loss: 0.4335\n",
      "Epoch 00093 | Loss: 0.4323\n",
      "Epoch 00094 | Loss: 0.4322\n",
      "Epoch 00095 | Loss: 0.4314\n",
      "Epoch 00096 | Loss: 0.4307\n",
      "F1-Score: 0.5960\n",
      "Epoch 00097 | Loss: 0.4302\n",
      "Epoch 00098 | Loss: 0.4307\n",
      "Epoch 00099 | Loss: 0.4305\n",
      "Epoch 00100 | Loss: 0.4300\n",
      "Epoch 00101 | Loss: 0.4314\n",
      "F1-Score: 0.6119\n",
      "Epoch 00102 | Loss: 0.4327\n",
      "Epoch 00103 | Loss: 0.4325\n",
      "Epoch 00104 | Loss: 0.4321\n",
      "Epoch 00105 | Loss: 0.4320\n",
      "Epoch 00106 | Loss: 0.4301\n",
      "F1-Score: 0.6111\n",
      "Epoch 00107 | Loss: 0.4277\n",
      "Epoch 00108 | Loss: 0.4258\n",
      "Epoch 00109 | Loss: 0.4247\n",
      "Epoch 00110 | Loss: 0.4248\n",
      "Epoch 00111 | Loss: 0.4239\n",
      "F1-Score: 0.6231\n",
      "Epoch 00112 | Loss: 0.4230\n",
      "Epoch 00113 | Loss: 0.4226\n",
      "Epoch 00114 | Loss: 0.4229\n",
      "Epoch 00115 | Loss: 0.4221\n",
      "Epoch 00116 | Loss: 0.4216\n",
      "F1-Score: 0.6170\n",
      "Epoch 00117 | Loss: 0.4221\n",
      "Epoch 00118 | Loss: 0.4213\n",
      "Epoch 00119 | Loss: 0.4203\n",
      "Epoch 00120 | Loss: 0.4195\n",
      "Epoch 00121 | Loss: 0.4192\n",
      "F1-Score: 0.6185\n",
      "Epoch 00122 | Loss: 0.4184\n",
      "Epoch 00123 | Loss: 0.4177\n",
      "Epoch 00124 | Loss: 0.4168\n",
      "Epoch 00125 | Loss: 0.4155\n",
      "Epoch 00126 | Loss: 0.4151\n",
      "F1-Score: 0.6154\n",
      "Epoch 00127 | Loss: 0.4151\n",
      "Epoch 00128 | Loss: 0.4147\n",
      "Epoch 00129 | Loss: 0.4144\n",
      "Epoch 00130 | Loss: 0.4145\n",
      "Epoch 00131 | Loss: 0.4136\n",
      "F1-Score: 0.6223\n",
      "Epoch 00132 | Loss: 0.4139\n",
      "Epoch 00133 | Loss: 0.4148\n",
      "Epoch 00134 | Loss: 0.4149\n",
      "Epoch 00135 | Loss: 0.4145\n",
      "Epoch 00136 | Loss: 0.4148\n",
      "F1-Score: 0.6119\n",
      "Epoch 00137 | Loss: 0.4144\n",
      "Epoch 00138 | Loss: 0.4140\n",
      "Epoch 00139 | Loss: 0.4138\n",
      "Epoch 00140 | Loss: 0.4141\n",
      "Epoch 00141 | Loss: 0.4135\n",
      "F1-Score: 0.6040\n",
      "Epoch 00142 | Loss: 0.4140\n",
      "Epoch 00143 | Loss: 0.4123\n",
      "Epoch 00144 | Loss: 0.4114\n",
      "Epoch 00145 | Loss: 0.4108\n",
      "Epoch 00146 | Loss: 0.4111\n",
      "F1-Score: 0.6106\n",
      "Epoch 00147 | Loss: 0.4123\n",
      "Epoch 00148 | Loss: 0.4124\n",
      "Epoch 00149 | Loss: 0.4161\n",
      "Epoch 00150 | Loss: 0.4214\n",
      "Epoch 00151 | Loss: 0.4229\n",
      "F1-Score: 0.6094\n",
      "Epoch 00152 | Loss: 0.4221\n",
      "Epoch 00153 | Loss: 0.4217\n",
      "Epoch 00154 | Loss: 0.4173\n",
      "Epoch 00155 | Loss: 0.4153\n",
      "Epoch 00156 | Loss: 0.4145\n",
      "F1-Score: 0.6073\n",
      "Epoch 00157 | Loss: 0.4153\n",
      "Epoch 00158 | Loss: 0.4159\n",
      "Epoch 00159 | Loss: 0.4168\n",
      "Epoch 00160 | Loss: 0.4156\n",
      "Epoch 00161 | Loss: 0.4137\n",
      "F1-Score: 0.6127\n",
      "Epoch 00162 | Loss: 0.4117\n",
      "Epoch 00163 | Loss: 0.4094\n",
      "Epoch 00164 | Loss: 0.4070\n",
      "Epoch 00165 | Loss: 0.4080\n",
      "Epoch 00166 | Loss: 0.4058\n",
      "F1-Score: 0.6288\n",
      "Epoch 00167 | Loss: 0.4048\n",
      "Epoch 00168 | Loss: 0.4049\n",
      "Epoch 00169 | Loss: 0.4042\n",
      "Epoch 00170 | Loss: 0.4033\n",
      "Epoch 00171 | Loss: 0.4034\n",
      "F1-Score: 0.6232\n",
      "Epoch 00172 | Loss: 0.4017\n",
      "Epoch 00173 | Loss: 0.4011\n",
      "Epoch 00174 | Loss: 0.4010\n",
      "Epoch 00175 | Loss: 0.3996\n",
      "Epoch 00176 | Loss: 0.3990\n",
      "F1-Score: 0.6303\n",
      "Epoch 00177 | Loss: 0.3993\n",
      "Epoch 00178 | Loss: 0.3984\n",
      "Epoch 00179 | Loss: 0.3992\n",
      "Epoch 00180 | Loss: 0.3995\n",
      "Epoch 00181 | Loss: 0.3990\n",
      "F1-Score: 0.6511\n",
      "Epoch 00182 | Loss: 0.3999\n",
      "Epoch 00183 | Loss: 0.4006\n",
      "Epoch 00184 | Loss: 0.3991\n",
      "Epoch 00185 | Loss: 0.4007\n",
      "Epoch 00186 | Loss: 0.4019\n",
      "F1-Score: 0.6623\n",
      "Epoch 00187 | Loss: 0.4026\n",
      "Epoch 00188 | Loss: 0.4044\n",
      "Epoch 00189 | Loss: 0.4069\n",
      "Epoch 00190 | Loss: 0.4105\n",
      "Epoch 00191 | Loss: 0.4131\n",
      "F1-Score: 0.6401\n",
      "Epoch 00192 | Loss: 0.4108\n",
      "Epoch 00193 | Loss: 0.4129\n",
      "Epoch 00194 | Loss: 0.4213\n",
      "Epoch 00195 | Loss: 0.4245\n",
      "Epoch 00196 | Loss: 0.4249\n",
      "F1-Score: 0.5497\n",
      "Epoch 00197 | Loss: 0.4284\n",
      "Epoch 00198 | Loss: 0.4217\n",
      "Epoch 00199 | Loss: 0.4228\n",
      "Epoch 00200 | Loss: 0.4172\n"
     ]
    }
   ],
   "source": [
    "### DEVICE GPU OR CPU : will select GPU if available\n",
    "device = torch.device(\"cuda\" if torch.cuda.is_available() else \"cpu\")\n",
    "print(\"\\nDevice: \", device)\n",
    "\n",
    "### Max number of epochs\n",
    "max_epochs = 200\n",
    "\n",
    "### DEFINE THE MODEL\n",
    "basic_model = BasicGraphModel(input_size=n_features, hidden_size=256, output_size=n_classes).to(\n",
    "    device\n",
    ")\n",
    "\n",
    "### DEFINE LOSS FUNCTION\n",
    "loss_fcn = nn.BCEWithLogitsLoss()\n",
    "\n",
    "### DEFINE OPTIMIZER\n",
    "optimizer = torch.optim.Adam(basic_model.parameters(), lr=0.005)\n",
    "\n",
    "### TRAIN THE MODEL\n",
    "epoch_list, basic_model_scores = train(\n",
    "    basic_model,\n",
    "    loss_fcn,\n",
    "    device,\n",
    "    optimizer,\n",
    "    max_epochs,\n",
    "    train_dataloader,\n",
    "    val_dataloader,\n",
    ")"
   ]
  },
  {
   "cell_type": "markdown",
   "metadata": {
    "cell_ktag": "CTj5T8PSuiv4"
   },
   "source": [
    "Let's evaluate the performance of this basic model"
   ]
  },
  {
   "cell_type": "code",
   "execution_count": 9,
   "metadata": {
    "cell_ktag": "CTj5T8PSuiv4"
   },
   "outputs": [
    {
     "name": "stdout",
     "output_type": "stream",
     "text": [
      "Basic Model : F1-Score on the validation set: 0.6541\n"
     ]
    },
    {
     "data": {
      "image/png": "[encoded data removed]",
      "text/plain": [
       "<Figure size 1000x500 with 1 Axes>"
      ]
     },
     "metadata": {},
     "output_type": "display_data"
    }
   ],
   "source": [
    "### F1-SCORE ON VALID DATASET\n",
    "score_valid = evaluate(basic_model, loss_fcn, device, val_dataloader)\n",
    "print(\"Basic Model : F1-Score on the validation set: {:.4f}\".format(score_valid))\n",
    "\n",
    "\n",
    "### PLOT EVOLUTION OF F1-SCORE W.R.T EPOCHS\n",
    "def plot_f1_score(epoch_list, scores):\n",
    "    plt.figure(figsize=[10, 5])\n",
    "    plt.plot(epoch_list, scores)\n",
    "    plt.title(\"Evolution of F1-Score w.r.t epochs\")\n",
    "    plt.ylim([0.0, 1.0])\n",
    "    plt.show()\n",
    "\n",
    "\n",
    "plot_f1_score(epoch_list, basic_model_scores)"
   ]
  },
  {
   "cell_type": "markdown",
   "metadata": {
    "cell_ktag": "CTj5T8PSuiv4"
   },
   "source": [
    "# QUESTIONS\n",
    "\n",
    "## Grading\n",
    "\n",
    "You will be graded on 5 questions. You will need to provide at least 4 files : \n",
    "1. This Notebook\n",
    "2. `class_model_gnn.py`\n",
    "3. `model.pth` (the file **must be of size less than 50Mo** but 20Mo should be enough to get a very good model)\n",
    "4. `conv_as_message_passing.py`\n",
    "\n",
    "If the function you defined passes all the tests, you will get the full grade. Otherwise we  will look at the intermediate questions in the notebook to give you partial credit.\n",
    "\n",
    "\n",
    "\n",
    " Please provide clear, short and __bold font__ answers.  "
   ]
  },
  {
   "cell_type": "markdown",
   "metadata": {
    "cell_ktag": "CTj5T8PSuiv4"
   },
   "source": [
    "> Question 1 : Design, build and train a model with a F1-score higher than 93% on validation set (**HINT :** https://arxiv.org/pdf/1710.10903.pdf).\n"
   ]
  },
  {
   "cell_type": "markdown",
   "metadata": {
    "cell_ktag": "CTj5T8PSuiv4"
   },
   "source": [
    " Provide two files : (https://pytorch.org/tutorials/beginner/saving_loading_models.html)\n",
    " -  a file  `class_model_gnn.py` containing the class inheriting from `torch.nn.Module` architecture of your final model to load\n",
    " -  a `model.pth` file : the model weights\n",
    " \n",
    " We will  test your model on final F1-Score on a test set. You must not use the test set for hyperparameter training.\n",
    " \n",
    "Intermediate question : \n",
    "\n",
    " Provide the script for training, and a plot of the training loss.  "
   ]
  },
  {
   "cell_type": "code",
   "execution_count": 7,
   "metadata": {
    "cell_ktag": "CTj5T8PSuiv4"
   },
   "outputs": [
    {
     "data": {
      "text/plain": [
       "torch.Size([1767, 121])"
      ]
     },
     "execution_count": 7,
     "metadata": {},
     "output_type": "execute_result"
    }
   ],
   "source": [
    "import torch\n",
    "import torch.nn as nn\n",
    "import torch.nn.functional as F\n",
    "\n",
    "# Define model ( in your class_model_gnn.py)\n",
    "class StudentModel(nn.Module):\n",
    "    def __init__(self, input_size, hidden_size, output_size, n_heads = 4):\n",
    "        super(StudentModel, self).__init__()\n",
    "\n",
    "        self.gatconv1 = graphnn.GATConv(input_size, hidden_size, heads = n_heads, concat = True)\n",
    "        self.gatconv2 = graphnn.GATConv(hidden_size * n_heads, hidden_size, heads = n_heads, concat = True)\n",
    "        \n",
    "        self.gatconv3 = graphnn.GATConv(hidden_size* n_heads , output_size, heads = 6, concat = False)\n",
    "        self.elu = nn.ELU()\n",
    "        self.sigmoid = nn.Sigmoid()\n",
    "    def forward(self, x, edge_index):\n",
    "        x1 = self.elu(self.gatconv1(x, edge_index))\n",
    "        x2= self.elu(self.gatconv2(x1, edge_index))\n",
    "        #x2 = torch.concat((x1, x2),dim = -1)\n",
    "        x3= self.gatconv3(x2, edge_index)\n",
    "        #x4= self.gatconv4(x3, edge_index)\n",
    "        return x3\n",
    "\n",
    "\n",
    "\n",
    "model = StudentModel(50, 256, 121)\n",
    "model(train_dataset[0].x, train_dataset[0].edge_index).shape"
   ]
  },
  {
   "cell_type": "code",
   "execution_count": 281,
   "metadata": {},
   "outputs": [],
   "source": [
    "# I didn't use this function, use if you want a more finegrained training.\n",
    "def train_gat(model, loss_fcn, device, optimizer, max_epochs, train_dataloader, val_dataloader, milestones, gamma = 0.5, ):\n",
    "    epoch_list = []\n",
    "    scores_list = []\n",
    "    scheduler = torch.optim.lr_scheduler.MultiStepLR(optimizer, milestones = milestones, gamma = gamma,)\n",
    "    # loop over epochs\n",
    "    for epoch in range(max_epochs):\n",
    "        model.train()\n",
    "        losses = []\n",
    "        # loop over batches\n",
    "        for i, train_batch in enumerate(train_dataloader):\n",
    "\n",
    "            optimizer.zero_grad()\n",
    "            train_batch_device = train_batch.to(device)\n",
    "            # logits is the output of the model\n",
    "            logits = model(train_batch_device.x, train_batch_device.edge_index)\n",
    "            # compute the loss\n",
    "            loss = loss_fcn(logits, train_batch_device.y)\n",
    "            # optimizer step\n",
    "            loss.backward()\n",
    "            optimizer.step()\n",
    "            losses.append(loss.item())\n",
    "        scheduler.step()\n",
    "        loss_data = np.array(losses).mean()\n",
    "        print(\"Epoch {:05d} | Loss: {:.4f}\".format(epoch + 1, loss_data))\n",
    "        \n",
    "        if epoch % 5 == 0:\n",
    "            # evaluate the model on the validation set\n",
    "            # computes the f1-score (see next function)\n",
    "            score = evaluate(model, loss_fcn, device, val_dataloader)\n",
    "            print(\"F1-Score: {:.4f}\".format(score))\n",
    "            scores_list.append(score)\n",
    "            epoch_list.append(epoch)\n",
    "            if score > 0.93:\n",
    "                break\n",
    "    return epoch_list, scores_list"
   ]
  },
  {
   "cell_type": "code",
   "execution_count": 62,
   "metadata": {},
   "outputs": [
    {
     "name": "stdout",
     "output_type": "stream",
     "text": [
      "Epoch 00001 | Loss: 0.6662\n",
      "F1-Score: 0.4027\n",
      "Epoch 00002 | Loss: 0.5652\n",
      "Epoch 00003 | Loss: 0.5387\n",
      "Epoch 00004 | Loss: 0.5223\n",
      "Epoch 00005 | Loss: 0.5132\n",
      "Epoch 00006 | Loss: 0.5056\n",
      "F1-Score: 0.5071\n",
      "Epoch 00007 | Loss: 0.4972\n",
      "Epoch 00008 | Loss: 0.4895\n",
      "Epoch 00009 | Loss: 0.4831\n",
      "Epoch 00010 | Loss: 0.4738\n",
      "Epoch 00011 | Loss: 0.4698\n",
      "F1-Score: 0.5757\n",
      "Epoch 00012 | Loss: 0.4683\n",
      "Epoch 00013 | Loss: 0.4584\n",
      "Epoch 00014 | Loss: 0.4520\n",
      "Epoch 00015 | Loss: 0.4477\n",
      "Epoch 00016 | Loss: 0.4468\n",
      "F1-Score: 0.6134\n",
      "Epoch 00017 | Loss: 0.4424\n",
      "Epoch 00018 | Loss: 0.4394\n",
      "Epoch 00019 | Loss: 0.4290\n",
      "Epoch 00020 | Loss: 0.4236\n",
      "Epoch 00021 | Loss: 0.4172\n",
      "F1-Score: 0.6246\n",
      "Epoch 00022 | Loss: 0.4146\n",
      "Epoch 00023 | Loss: 0.4061\n",
      "Epoch 00024 | Loss: 0.4002\n",
      "Epoch 00025 | Loss: 0.3947\n",
      "Epoch 00026 | Loss: 0.3890\n",
      "F1-Score: 0.6590\n",
      "Epoch 00027 | Loss: 0.3934\n",
      "Epoch 00028 | Loss: 0.3969\n",
      "Epoch 00029 | Loss: 0.3838\n",
      "Epoch 00030 | Loss: 0.3747\n",
      "Epoch 00031 | Loss: 0.3651\n",
      "F1-Score: 0.6854\n",
      "Epoch 00032 | Loss: 0.3598\n",
      "Epoch 00033 | Loss: 0.3525\n",
      "Epoch 00034 | Loss: 0.3455\n",
      "Epoch 00035 | Loss: 0.3412\n",
      "Epoch 00036 | Loss: 0.3469\n",
      "F1-Score: 0.6929\n",
      "Epoch 00037 | Loss: 0.3482\n",
      "Epoch 00038 | Loss: 0.3450\n",
      "Epoch 00039 | Loss: 0.3448\n",
      "Epoch 00040 | Loss: 0.3356\n",
      "Epoch 00041 | Loss: 0.3228\n",
      "F1-Score: 0.7296\n",
      "Epoch 00042 | Loss: 0.3154\n",
      "Epoch 00043 | Loss: 0.3092\n",
      "Epoch 00044 | Loss: 0.3042\n",
      "Epoch 00045 | Loss: 0.3007\n",
      "Epoch 00046 | Loss: 0.2983\n",
      "F1-Score: 0.7492\n",
      "Epoch 00047 | Loss: 0.2954\n",
      "Epoch 00048 | Loss: 0.2928\n",
      "Epoch 00049 | Loss: 0.2889\n",
      "Epoch 00050 | Loss: 0.2933\n",
      "Epoch 00051 | Loss: 0.2898\n",
      "F1-Score: 0.7591\n",
      "Epoch 00052 | Loss: 0.2800\n",
      "Epoch 00053 | Loss: 0.2679\n",
      "Epoch 00054 | Loss: 0.2588\n",
      "Epoch 00055 | Loss: 0.2524\n",
      "Epoch 00056 | Loss: 0.2493\n",
      "F1-Score: 0.7837\n",
      "Epoch 00057 | Loss: 0.2475\n",
      "Epoch 00058 | Loss: 0.2519\n",
      "Epoch 00059 | Loss: 0.2544\n",
      "Epoch 00060 | Loss: 0.2528\n",
      "Epoch 00061 | Loss: 0.2464\n",
      "F1-Score: 0.7982\n",
      "Epoch 00062 | Loss: 0.2419\n",
      "Epoch 00063 | Loss: 0.2329\n",
      "Epoch 00064 | Loss: 0.2266\n",
      "Epoch 00065 | Loss: 0.2198\n",
      "Epoch 00066 | Loss: 0.2125\n",
      "F1-Score: 0.8118\n",
      "Epoch 00067 | Loss: 0.2072\n",
      "Epoch 00068 | Loss: 0.2041\n",
      "Epoch 00069 | Loss: 0.1993\n",
      "Epoch 00070 | Loss: 0.1966\n",
      "Epoch 00071 | Loss: 0.1976\n",
      "F1-Score: 0.8298\n",
      "Epoch 00072 | Loss: 0.2011\n",
      "Epoch 00073 | Loss: 0.2106\n",
      "Epoch 00074 | Loss: 0.2143\n",
      "Epoch 00075 | Loss: 0.2144\n",
      "Epoch 00076 | Loss: 0.2145\n",
      "F1-Score: 0.8199\n",
      "Epoch 00077 | Loss: 0.2099\n",
      "Epoch 00078 | Loss: 0.2010\n",
      "Epoch 00079 | Loss: 0.1986\n",
      "Epoch 00080 | Loss: 0.1916\n",
      "Epoch 00081 | Loss: 0.1865\n",
      "F1-Score: 0.8394\n",
      "Epoch 00082 | Loss: 0.1814\n",
      "Epoch 00083 | Loss: 0.1793\n",
      "Epoch 00084 | Loss: 0.1774\n",
      "Epoch 00085 | Loss: 0.1719\n",
      "Epoch 00086 | Loss: 0.1663\n",
      "F1-Score: 0.8546\n",
      "Epoch 00087 | Loss: 0.1641\n",
      "Epoch 00088 | Loss: 0.1652\n",
      "Epoch 00089 | Loss: 0.1693\n",
      "Epoch 00090 | Loss: 0.1703\n",
      "Epoch 00091 | Loss: 0.1709\n",
      "F1-Score: 0.8535\n",
      "Epoch 00092 | Loss: 0.1662\n",
      "Epoch 00093 | Loss: 0.1662\n",
      "Epoch 00094 | Loss: 0.1644\n",
      "Epoch 00095 | Loss: 0.1637\n",
      "Epoch 00096 | Loss: 0.1576\n",
      "F1-Score: 0.8595\n",
      "Epoch 00097 | Loss: 0.1557\n",
      "Epoch 00098 | Loss: 0.1540\n",
      "Epoch 00099 | Loss: 0.1534\n",
      "Epoch 00100 | Loss: 0.1545\n",
      "Epoch 00101 | Loss: 0.1509\n",
      "F1-Score: 0.8570\n",
      "Epoch 00102 | Loss: 0.1492\n",
      "Epoch 00103 | Loss: 0.1463\n",
      "Epoch 00104 | Loss: 0.1428\n",
      "Epoch 00105 | Loss: 0.1355\n",
      "Epoch 00106 | Loss: 0.1337\n",
      "F1-Score: 0.8685\n",
      "Epoch 00107 | Loss: 0.1302\n",
      "Epoch 00108 | Loss: 0.1282\n",
      "Epoch 00109 | Loss: 0.1273\n",
      "Epoch 00110 | Loss: 0.1255\n",
      "Epoch 00111 | Loss: 0.1320\n",
      "F1-Score: 0.8692\n",
      "Epoch 00112 | Loss: 0.1404\n",
      "Epoch 00113 | Loss: 0.1419\n",
      "Epoch 00114 | Loss: 0.1450\n",
      "Epoch 00115 | Loss: 0.1445\n",
      "Epoch 00116 | Loss: 0.1408\n",
      "F1-Score: 0.8608\n",
      "Epoch 00117 | Loss: 0.1311\n",
      "Epoch 00118 | Loss: 0.1230\n",
      "Epoch 00119 | Loss: 0.1155\n",
      "Epoch 00120 | Loss: 0.1130\n",
      "Epoch 00121 | Loss: 0.1130\n",
      "F1-Score: 0.8845\n",
      "Epoch 00122 | Loss: 0.1108\n",
      "Epoch 00123 | Loss: 0.1131\n",
      "Epoch 00124 | Loss: 0.1128\n",
      "Epoch 00125 | Loss: 0.1122\n",
      "Epoch 00126 | Loss: 0.1119\n",
      "F1-Score: 0.8815\n",
      "Epoch 00127 | Loss: 0.1126\n",
      "Epoch 00128 | Loss: 0.1129\n",
      "Epoch 00129 | Loss: 0.1114\n",
      "Epoch 00130 | Loss: 0.1061\n",
      "Epoch 00131 | Loss: 0.1047\n",
      "F1-Score: 0.8873\n",
      "Epoch 00132 | Loss: 0.1031\n",
      "Epoch 00133 | Loss: 0.1004\n",
      "Epoch 00134 | Loss: 0.1000\n",
      "Epoch 00135 | Loss: 0.0995\n",
      "Epoch 00136 | Loss: 0.1022\n",
      "F1-Score: 0.8899\n",
      "Epoch 00137 | Loss: 0.1061\n",
      "Epoch 00138 | Loss: 0.1182\n",
      "Epoch 00139 | Loss: 0.1264\n",
      "Epoch 00140 | Loss: 0.1207\n",
      "Epoch 00141 | Loss: 0.1139\n",
      "F1-Score: 0.8803\n",
      "Epoch 00142 | Loss: 0.1093\n",
      "Epoch 00143 | Loss: 0.1061\n",
      "Epoch 00144 | Loss: 0.1006\n",
      "Epoch 00145 | Loss: 0.0960\n",
      "Epoch 00146 | Loss: 0.0940\n",
      "F1-Score: 0.8937\n",
      "Epoch 00147 | Loss: 0.0946\n",
      "Epoch 00148 | Loss: 0.0966\n",
      "Epoch 00149 | Loss: 0.0983\n",
      "Epoch 00150 | Loss: 0.0974\n",
      "Epoch 00151 | Loss: 0.0981\n",
      "F1-Score: 0.8919\n",
      "Epoch 00152 | Loss: 0.0976\n",
      "Epoch 00153 | Loss: 0.0956\n",
      "Epoch 00154 | Loss: 0.0963\n",
      "Epoch 00155 | Loss: 0.0985\n",
      "Epoch 00156 | Loss: 0.1043\n",
      "F1-Score: 0.8798\n",
      "Epoch 00157 | Loss: 0.1099\n",
      "Epoch 00158 | Loss: 0.1081\n",
      "Epoch 00159 | Loss: 0.1056\n",
      "Epoch 00160 | Loss: 0.1110\n",
      "Epoch 00161 | Loss: 0.1084\n",
      "F1-Score: 0.8860\n",
      "Epoch 00162 | Loss: 0.1060\n",
      "Epoch 00163 | Loss: 0.0981\n",
      "Epoch 00164 | Loss: 0.0975\n",
      "Epoch 00165 | Loss: 0.0885\n",
      "Epoch 00166 | Loss: 0.0829\n",
      "F1-Score: 0.9004\n",
      "Epoch 00167 | Loss: 0.0783\n",
      "Epoch 00168 | Loss: 0.0779\n",
      "Epoch 00169 | Loss: 0.0782\n",
      "Epoch 00170 | Loss: 0.0810\n",
      "Epoch 00171 | Loss: 0.0830\n",
      "F1-Score: 0.8982\n",
      "Epoch 00172 | Loss: 0.0860\n",
      "Epoch 00173 | Loss: 0.0855\n",
      "Epoch 00174 | Loss: 0.0853\n",
      "Epoch 00175 | Loss: 0.0882\n",
      "Epoch 00176 | Loss: 0.0869\n",
      "F1-Score: 0.8951\n",
      "Epoch 00177 | Loss: 0.0854\n",
      "Epoch 00178 | Loss: 0.0843\n",
      "Epoch 00179 | Loss: 0.0812\n",
      "Epoch 00180 | Loss: 0.0778\n",
      "Epoch 00181 | Loss: 0.0749\n",
      "F1-Score: 0.9017\n",
      "Epoch 00182 | Loss: 0.0722\n",
      "Epoch 00183 | Loss: 0.0708\n",
      "Epoch 00184 | Loss: 0.0707\n",
      "Epoch 00185 | Loss: 0.0690\n",
      "Epoch 00186 | Loss: 0.0668\n",
      "F1-Score: 0.9059\n",
      "Epoch 00187 | Loss: 0.0656\n",
      "Epoch 00188 | Loss: 0.0660\n",
      "Epoch 00189 | Loss: 0.0657\n",
      "Epoch 00190 | Loss: 0.0649\n",
      "Epoch 00191 | Loss: 0.0638\n",
      "F1-Score: 0.9072\n",
      "Epoch 00192 | Loss: 0.0633\n",
      "Epoch 00193 | Loss: 0.0620\n",
      "Epoch 00194 | Loss: 0.0609\n",
      "Epoch 00195 | Loss: 0.0598\n",
      "Epoch 00196 | Loss: 0.0623\n",
      "F1-Score: 0.9099\n",
      "Epoch 00197 | Loss: 0.0633\n",
      "Epoch 00198 | Loss: 0.0681\n",
      "Epoch 00199 | Loss: 0.0709\n",
      "Epoch 00200 | Loss: 0.0733\n"
     ]
    }
   ],
   "source": [
    "max_epochs = 200\n",
    "\n",
    "### DEFINE THE MODEL\n",
    "model = StudentModel(n_features, 256, n_classes).to(device)\n",
    "\n",
    "\n",
    "### DEFINE LOSS FUNCTION\n",
    "loss_fcn = nn.BCELossWithLogits()\n",
    "\n",
    "### DEFINE OPTIMIZER\n",
    "optimizer = torch.optim.Adam(model.parameters(), lr=1e-2)\n",
    "\n",
    "### TRAIN THE MODEL\n",
    "epoch_list, basic_model_scores = train(\n",
    "    model,\n",
    "    loss_fcn,\n",
    "    device,\n",
    "    optimizer,\n",
    "    max_epochs,\n",
    "    train_dataloader,\n",
    "    val_dataloader,\n",
    ")"
   ]
  },
  {
   "cell_type": "code",
   "execution_count": 63,
   "metadata": {
    "scrolled": true
   },
   "outputs": [
    {
     "data": {
      "image/png": "[encoded data removed]",
      "text/plain": [
       "<Figure size 1000x500 with 1 Axes>"
      ]
     },
     "metadata": {},
     "output_type": "display_data"
    }
   ],
   "source": [
    "plot_f1_score(epoch_list, model_scores)"
   ]
  },
  {
   "cell_type": "markdown",
   "metadata": {},
   "source": [
    "**The model starts to really overfit at around epoch 180. Now I will try to retrain this model with a smaller learning rate. I can't add dropout now, otherwise it will reset the parameters of the model.**"
   ]
  },
  {
   "cell_type": "code",
   "execution_count": 65,
   "metadata": {},
   "outputs": [
    {
     "name": "stdout",
     "output_type": "stream",
     "text": [
      "My model : F1-Score on the validation set: 0.9056\n"
     ]
    }
   ],
   "source": [
    "score_valid = evaluate(model, loss_fcn, device, val_dataloader)\n",
    "print(\"My model : F1-Score on the validation set: {:.4f}\".format(score_valid))"
   ]
  },
  {
   "cell_type": "code",
   "execution_count": 70,
   "metadata": {},
   "outputs": [],
   "source": [
    "torch.save(model.state_dict(), \"Model_90F1.pth\")"
   ]
  },
  {
   "cell_type": "code",
   "execution_count": 71,
   "metadata": {},
   "outputs": [],
   "source": [
    "weights = torch.load(\"Model_90F1.pth\", weights_only = True)"
   ]
  },
  {
   "cell_type": "code",
   "execution_count": 249,
   "metadata": {},
   "outputs": [
    {
     "data": {
      "text/plain": [
       "<All keys matched successfully>"
      ]
     },
     "execution_count": 249,
     "metadata": {},
     "output_type": "execute_result"
    }
   ],
   "source": [
    "model_to_finetune = StudentModel(n_features, 256, n_classes).to(device)\n",
    "model_to_finetune.load_state_dict(torch.load('Model_90F1.pth'))\n"
   ]
  },
  {
   "cell_type": "code",
   "execution_count": 250,
   "metadata": {},
   "outputs": [
    {
     "name": "stdout",
     "output_type": "stream",
     "text": [
      "Loaded model : F1-Score on the validation set: 0.9056\n"
     ]
    }
   ],
   "source": [
    "score_valid = evaluate(model_to_finetune, loss_fcn, device, val_dataloader)\n",
    "print(\"Loaded model : F1-Score on the validation set: {:.4f}\".format(score_valid))"
   ]
  },
  {
   "cell_type": "code",
   "execution_count": 251,
   "metadata": {},
   "outputs": [
    {
     "name": "stdout",
     "output_type": "stream",
     "text": [
      "Epoch 00001 | Loss: 0.0555\n",
      "F1-Score: 0.9171\n",
      "Epoch 00002 | Loss: 0.0458\n",
      "Epoch 00003 | Loss: 0.0400\n",
      "Epoch 00004 | Loss: 0.0370\n",
      "Epoch 00005 | Loss: 0.0352\n",
      "Epoch 00006 | Loss: 0.0340\n",
      "F1-Score: 0.9252\n",
      "Epoch 00007 | Loss: 0.0331\n",
      "Epoch 00008 | Loss: 0.0322\n",
      "Epoch 00009 | Loss: 0.0316\n",
      "Epoch 00010 | Loss: 0.0311\n",
      "Epoch 00011 | Loss: 0.0309\n",
      "F1-Score: 0.9256\n",
      "Epoch 00012 | Loss: 0.0309\n",
      "Epoch 00013 | Loss: 0.0305\n",
      "Epoch 00014 | Loss: 0.0305\n",
      "Epoch 00015 | Loss: 0.0298\n",
      "Epoch 00016 | Loss: 0.0299\n",
      "F1-Score: 0.9227\n",
      "Epoch 00017 | Loss: 0.0300\n",
      "Epoch 00018 | Loss: 0.0301\n",
      "Epoch 00019 | Loss: 0.0301\n",
      "Epoch 00020 | Loss: 0.0313\n"
     ]
    }
   ],
   "source": [
    "max_epochs = 20\n",
    "\n",
    "\n",
    "\n",
    "### DEFINE LOSS FUNCTION\n",
    "loss_fcn = nn.BCEWithLogitsLoss()\n",
    "\n",
    "### DEFINE OPTIMIZER\n",
    "optimizer = torch.optim.Adam(model_to_finetune.parameters(), lr=0.0007,) \n",
    "\n",
    "### TRAIN THE MODEL\n",
    "epoch_list, model_scores_finetuned = train(\n",
    "    model_to_finetune,\n",
    "    loss_fcn,\n",
    "    device,\n",
    "    optimizer,\n",
    "    max_epochs,\n",
    "    train_dataloader,\n",
    "    val_dataloader,\n",
    ")"
   ]
  },
  {
   "cell_type": "code",
   "execution_count": 252,
   "metadata": {},
   "outputs": [
    {
     "name": "stdout",
     "output_type": "stream",
     "text": [
      "Loaded model : F1-Score on the validation set: 0.9225\n"
     ]
    }
   ],
   "source": [
    "score_valid = evaluate(model_to_finetune, loss_fcn, device, val_dataloader)\n",
    "print(\"Loaded model : F1-Score on the validation set: {:.4f}\".format(score_valid))"
   ]
  },
  {
   "cell_type": "code",
   "execution_count": 11,
   "metadata": {},
   "outputs": [],
   "source": [
    "torch.save(model_to_finetune.state_dict(), \"model.pth\")"
   ]
  },
  {
   "cell_type": "code",
   "execution_count": 12,
   "metadata": {},
   "outputs": [
    {
     "data": {
      "text/plain": [
       "<All keys matched successfully>"
      ]
     },
     "execution_count": 12,
     "metadata": {},
     "output_type": "execute_result"
    }
   ],
   "source": [
    "model_to_finetune = StudentModel(n_features, 256, n_classes).to(device)\n",
    "model_to_finetune.load_state_dict(torch.load('model.pth'))"
   ]
  },
  {
   "cell_type": "code",
   "execution_count": 17,
   "metadata": {},
   "outputs": [
    {
     "name": "stdout",
     "output_type": "stream",
     "text": [
      "Loaded model : F1-Score on the validation set: 0.9225\n"
     ]
    }
   ],
   "source": [
    "score_valid = evaluate(model_to_finetune, loss_fcn, device, val_dataloader)\n",
    "print(\"Loaded model : F1-Score on the validation set: {:.4f}\".format(score_valid))"
   ]
  },
  {
   "cell_type": "markdown",
   "metadata": {},
   "source": [
    "**The model reaches 92.37 %, which is pretty good. An improvement would be to mimic exactly what has been implemented in the paper. However, I found that adding residual connections make the model learn slowly (the loss slighly decreases at each epoch), and I don't have infinite time so I will give you this model.**"
   ]
  },
  {
   "cell_type": "markdown",
   "metadata": {
    "cell_ktag": "CTj5T8PSuiv4"
   },
   "source": [
    "## Conv 2D as Message Passing Neural Network\n",
    "\n",
    "\n",
    "## Introduction\n",
    "\n",
    "The use of graph is a way to structure data by adding neighborhood information between features. This then allows to do operations on the data that are local to each node and its neighbors. This is the main idea behind Graph Neural Networks (GNNs). [`pytorch-geometric`](https://pytorch-geometric.readthedocs.io/en/latest/) is a library compatible with PyTorch that allows to easily implement GNNs. The most general structure is the [`MessagePassing`](https://pytorch-geometric.readthedocs.io/en/latest/generated/torch_geometric.nn.conv.MessagePassing.html#torch_geometric.nn.conv.MessagePassing) class that is then used as a base for more specific GNNs as seen in the course ([Graph Convolutional Networks](https://pytorch-geometric.readthedocs.io/en/latest/generated/torch_geometric.nn.conv.GCNConv.html#torch_geometric.nn.conv.GCNConv) or [Graph AttenTion Convolution](https://pytorch-geometric.readthedocs.io/en/latest/generated/torch_geometric.nn.conv.GATConv.html#torch_geometric.nn.conv.GATConv)).\n",
    "\n",
    "On the other hand, you already know an operation that uses the structure of the data to do local operations: the convolution (https://pytorch.org/docs/stable/generated/torch.nn.Conv2d.html). One can see the convolution as a specific case of the message passing neural network. The goal of this notebook is to show how to use the `MessagePassing` class to implement a convolutional neural network.\n",
    "You will be asked to implement 3 functions. You should give back those three functions in a file named `conv_as_message_passing.py`. These functions will then be automatically tested. So be sure to respect the function signature and the function name.\n",
    "\n",
    "\n",
    "## Assumptions\n",
    "\n",
    "To make the implementation easier we will make some assumptions:\n",
    "- the input is a single image (batch size of 1) of size 'C x H x W'\n",
    "- the convolution will be a 3x3 kernel with stride 1 and padding 1.\n",
    "\n",
    "You may also assume that the Conv2D layer has no bias but it will be slightly penalized in the grading.\n",
    "\n",
    "Bonus points will be given if you can handle the cases that are not covered by those assumptions.\n",
    "\n",
    "\n",
    "## Questions\n",
    "\n",
    "### Question 2\n",
    "\n",
    "> Using the formalism used in the [`MessagePassing`](https://pytorch-geometric.readthedocs.io/en/latest/generated/torch_geometric.nn.conv.MessagePassing.html#torch_geometric.nn.conv.MessagePassing) documentation (and on [wikipedia](https://en.wikipedia.org/wiki/Graph_neural_network#Message_passing_layers) with sligthly different notations), explain how theorically you can simulate a 2D convolution using the `MessagePassing` formalism. This may include a pre-processing step to transform the image into a graph and then a post-processing step to transform the graph back into an image. (:warning: Those steps should be independent of the parameters of the convolution, but not necessarily from the hyper-parameters.)\n",
    "$$\\mathbf{x}_{i}^{\\prime} = \\gamma_{\\mathbf{\\Theta}}\\left( \\mathbf{x}_{i},\\bigoplus\\limits_{j \\in \\mathcal{N}(i)}\\,\\phi_{\\mathbf{\\Theta}}\\left( \\mathbf{x}_{i},\\mathbf{x}_{j},\\mathbf{e}_{j,i} \\right) \\right),$$\n",
    "\n",
    "\n",
    "HINT : It is possible to do it with the following $\\gamma$ : \n",
    "\n",
    "$$ \\gamma_\\Theta : x,y \\mapsto y $$\n"
   ]
  },
  {
   "cell_type": "markdown",
   "metadata": {},
   "source": [
    "**Anwser 2**\n",
    "\n",
    "Given an image $u$ of shape $(C, H, W)$:\n",
    "* Preprocess : We convert $u$ into a graph $\\hat{u} = (V, E)$ where each node corresponds to a pixel, and two nodes are linked together if they are neighbors in the image given the kernel size.\n",
    "\n",
    "So $x \\in V$ is a feature vector in $\\mathbb{R}^{C}$\n",
    "\n",
    "$e_{ij} \\in  E$ is a scalar value, which is equal to the corresponding weight in the kernel.\n",
    "\n",
    "* We set $\\gamma_\\Theta : y \\mapsto y $ as the identity, because the update function in the convolution simply take the value of the aggregation (convolution) and applies it to current feature node. So the resulting operation is $$\\mathbf{x}_{i}^{\\prime} = \\left( \\bigoplus\\limits_{j \\in \\mathcal{N}(i)}\\,\\phi_{\\mathbf{\\Theta}}\\left( \\mathbf{x}_{i},\\mathbf{x}_{j},\\mathbf{e}_{j,i} \\right) \\right),$$\n",
    "\n",
    "Here, the argument $x_i$ is useless since we consider only the neighborhood, so we the function $\\phi_{\\mathbf{\\Theta}}$ takes only one node and one edge feature as parameters : $\\phi_{\\mathbf{\\Theta}}( \\mathbf{x}_{j},\\mathbf{e}_{ij})$.\n",
    "\n",
    "Moreover, since it's a convolution, this function is simply a product : $\\phi_{\\mathbf{\\Theta}}( \\mathbf{x}_{j}, {e}_{ij}) = \\mathbf{x}_{j} \\times {e}_{ij}$ (This is the message from node j to node i).\n",
    "\n",
    "And finally, the aggregation function is the sum : \n",
    "$$\\mathbf{x}_{i}^{\\prime} = \\left( \\sum\\limits_{j \\in \\mathcal{N}(i)}\\,\\mathbf{x}_{j} \\times {e}_{ij} \\right),$$\n",
    "\n",
    "* Postprocess: Convert the result graph back into an image.\n"
   ]
  },
  {
   "cell_type": "code",
   "execution_count": 4,
   "metadata": {
    "cell_ktag": "CTj5T8PSuiv4"
   },
   "outputs": [],
   "source": [
    "import torch\n",
    "import torch_geometric"
   ]
  },
  {
   "cell_type": "markdown",
   "metadata": {
    "cell_ktag": "CTj5T8PSuiv4"
   },
   "source": [
    "### Question 3\n",
    "\n",
    "> Implement the pre-processing function, you can use the follwing code skeleton (you may change the output type, it is just a strong suggestion):"
   ]
  },
  {
   "cell_type": "code",
   "execution_count": 301,
   "metadata": {
    "cell_ktag": "CTj5T8PSuiv4"
   },
   "outputs": [],
   "source": [
    "def image_to_graph(\n",
    "    image: torch.Tensor, conv2d: torch.nn.Conv2d | None = None\n",
    ") -> torch_geometric.data.Data:\n",
    "    \"\"\"\n",
    "    Converts an image tensor to a PyTorch Geometric Data object.\n",
    "    COMPLETE\n",
    "\n",
    "    Arguments:\n",
    "    ----------\n",
    "    image : torch.Tensor\n",
    "        Image tensor of shape (C, H, W).\n",
    "    conv2d : torch.nn.Conv2d, optional\n",
    "        Conv2d layer to simulate, by default None\n",
    "        Is used to determine the size of the receptive field.\n",
    "\n",
    "    Returns:\n",
    "    --------\n",
    "    torch_geometric.data.Data\n",
    "        Graph representation of the image.\n",
    "    \"\"\"\n",
    "    C, H, W = image.shape\n",
    "    # Assumptions (remove it for the bonus)\n",
    "    assert image.dim() == 3, f\"Expected 3D tensor, got {image.dim()}D tensor.\"\n",
    "    if conv2d is not None:\n",
    "        assert conv2d.padding[0] == conv2d.padding[1] == 1, \"Expected padding of 1 on both sides.\"\n",
    "        assert conv2d.kernel_size[0] == conv2d.kernel_size[1] == 3, \"Expected kernel size of 3x3.\"\n",
    "        assert conv2d.stride[0] == conv2d.stride[1] == 1, \"Expected stride of 1.\"\n",
    "    kernel_size = conv2d.kernel_size[0]\n",
    "    \n",
    "    edges_index = []\n",
    "    image = image.permute(1, 2, 0)\n",
    "    \n",
    "    image = torch.flatten(image, 0, 1)\n",
    "    pad = kernel_size // 2\n",
    "\n",
    "    \n",
    "    edges_index = []\n",
    "    adj = torch.zeros(H * W, H * W, dtype=torch.float)\n",
    "    edges_attr = []\n",
    "    for i in range(H ):\n",
    "        for j in range(W ):\n",
    "\n",
    "            idx = i * W + j\n",
    "            neighbors  = [\n",
    "                (i-1, j-1), (i-1, j), (i-1, j+1),\n",
    "                (i, j-1),  (i, j),       (i, j+1),\n",
    "                (i+1, j-1), (i+1, j), (i+1, j+1)\n",
    "            ]\n",
    "            for m, (ni, nj) in enumerate(neighbors):\n",
    "                if 0 <= ni < H and 0 <= nj < W:\n",
    "                    edges_index.append([ni * W + nj, idx])\n",
    "                    edges_attr.append(m)\n",
    "    edges_attr = torch.tensor(edges_attr, dtype = torch.long)\n",
    "    edges_index = torch.tensor(edges_index, dtype = torch.long).t()\n",
    "    return torch_geometric.data.Data(image, edges_index, edge_attr = edges_attr)"
   ]
  },
  {
   "cell_type": "markdown",
   "metadata": {
    "cell_ktag": "CTj5T8PSuiv4"
   },
   "source": [
    "### Question 4\n",
    "\n",
    "> Implement the post-processing function, you can use the follwing code skeleton:"
   ]
  },
  {
   "cell_type": "code",
   "execution_count": 302,
   "metadata": {},
   "outputs": [],
   "source": [
    "def graph_to_image(\n",
    "    data: torch.Tensor, height: int, width: int, conv2d: torch.nn.Conv2d | None = None\n",
    ") -> torch.Tensor:\n",
    "    \"\"\"\n",
    "    Converts a graph representation of an image to an image tensor.\n",
    "\n",
    "    Arguments:\n",
    "    ----------\n",
    "    data : torch.Tensor\n",
    "        Graph data representation of the image.\n",
    "    height : int\n",
    "        Height of the image.\n",
    "    width : int\n",
    "        Width of the image.\n",
    "    conv2d : torch.nn.Conv2d, optional\n",
    "        Conv2d layer to simulate, by default None\n",
    "\n",
    "    Returns:\n",
    "    --------\n",
    "    torch.Tensor\n",
    "        Image tensor of shape (C, H, W).\n",
    "    \"\"\"\n",
    "    # Assumptions (remove it for the bonus)\n",
    "    assert data.dim() == 2, f\"Expected 2D tensor, got {data.dim()}D tensor.\"\n",
    "    if conv2d is not None:\n",
    "        assert conv2d.padding[0] == conv2d.padding[1] == 1, \"Expected padding of 1 on both sides.\"\n",
    "        assert conv2d.kernel_size[0] == conv2d.kernel_size[1] == 3, \"Expected kernel size of 3x3.\"\n",
    "        assert conv2d.stride[0] == conv2d.stride[1] == 1, \"Expected stride of 1.\"\n",
    "    C = data.shape[-1]\n",
    "    image = data.reshape(height  , width , C)\n",
    "    return image.permute(2, 0, 1)"
   ]
  },
  {
   "cell_type": "markdown",
   "metadata": {
    "cell_ktag": "CTj5T8PSuiv4"
   },
   "source": [
    "#### Recommended test cases\n",
    "\n",
    "We **encourage** you to test that you have the property that the pre-processing function followed by the post-processing function is the identity function."
   ]
  },
  {
   "cell_type": "code",
   "execution_count": 303,
   "metadata": {
    "cell_ktag": "CTj5T8PSuiv4"
   },
   "outputs": [],
   "source": [
    "ref_conv = torch.nn.Conv2d(5, 7, kernel_size=3, padding=1, stride=1)\n",
    "image = torch.randn(5, 10, 11)\n",
    "g_image = image_to_graph(image, ref_conv)\n",
    "reconstructed_image = graph_to_image(g_image.x, 10, 11, ref_conv)\n",
    "assert torch.allclose(image, reconstructed_image)\n",
    "H, W, _  = image.shape\n",
    "k = 0\n",
    "for i in range(len(g_image.edge_index[0])):\n",
    "    edge_from = g_image.edge_index[0, i].item()\n",
    "    edge_to = g_image.edge_index[1, i].item()\n",
    "\n",
    "    from_x, from_y = edge_from // W, edge_from % W\n",
    "    to_x, to_y = edge_to // W, edge_to % W\n",
    "    try:\n",
    "        assert abs(to_x - from_x) <= 1 and abs(to_y - from_y) <= 1\n",
    "    except:\n",
    "        k += 1\n",
    "        "
   ]
  },
  {
   "cell_type": "markdown",
   "metadata": {
    "cell_ktag": "CTj5T8PSuiv4"
   },
   "source": [
    "### Question 5\n",
    "\n",
    "> Implement the `Conv2dMessagePassing` class that will simulate a 2D convolution using the `MessagePassing` formalism. \n",
    "You should inherit from the `MessagePassing` class and only change the `__init__` and `message` functions (the `forward` function has already been changed for you). You should use the following code skeleton:"
   ]
  },
  {
   "cell_type": "code",
   "execution_count": 308,
   "metadata": {
    "cell_ktag": "CTj5T8PSuiv4"
   },
   "outputs": [],
   "source": [
    "class Conv2dMessagePassing(torch_geometric.nn.MessagePassing):\n",
    "    \"\"\"\n",
    "    A Message Passing layer that simulates a given Conv2d layer.\n",
    "    \"\"\"\n",
    "\n",
    "    def __init__(self, conv2d: torch.nn.Conv2d):\n",
    "        # <TO IMPLEMENT>\n",
    "        # Don't forget to call the parent constructor with the correct aguments\n",
    "        # super().__init__(<arguments>)\n",
    "        # </TO IMPLEMENT>\n",
    "        super().__init__(aggr='add')\n",
    "        self.in_channels = conv2d.in_channels\n",
    "        self.out_channels = conv2d.out_channels\n",
    "        self.conv2d = conv2d\n",
    "        self.weight = conv2d.weight\n",
    "        if conv2d is not None:\n",
    "            assert conv2d.padding[0] == conv2d.padding[1] == 1, \"Expected padding of 1 on both sides.\"\n",
    "            assert conv2d.kernel_size[0] == conv2d.kernel_size[1] == 3, \"Expected kernel size of 3x3.\"\n",
    "            assert conv2d.stride[0] == conv2d.stride[1] == 1, \"Expected stride of 1.\"\n",
    "            self.kernel_size = conv2d.kernel_size[0]\n",
    "            self.stride = conv2d.stride\n",
    "            self.padding = conv2d.padding\n",
    "    def forward(self, data):\n",
    "        self.edge_index = data.edge_index\n",
    "\n",
    "        x, edge_index, edge_attr = data.x, data.edge_index, data.edge_attr\n",
    "        out = self.propagate(edge_index, x=x, edge_attr=edge_attr)\n",
    "        return out\n",
    "\n",
    "    def message(self, x_j: torch.Tensor, edge_attr: torch.Tensor) -> torch.Tensor:\n",
    "        \"\"\"\n",
    "        Computes the message to be passed for each edge.\n",
    "        For each edge e = (u, v) in the graph indexed by i,\n",
    "        the message trough the edge e (ie from node u to node v)\n",
    "        should be returned as the i-th line of the output tensor.\n",
    "        (The message is phi(u, v, e) in the formalism.)\n",
    "        To do this you can access the features of the source node\n",
    "        in x_j[i] and the attributes of the edge in edge_attr[i].\n",
    "\n",
    "        Arguments:\n",
    "        ----------\n",
    "        x_j : torch.Tensor\n",
    "            The features of the souce node for each edge (of size E x in_channels).\n",
    "        edge_attr : torch.Tensor\n",
    "            The attributes of the edge (of size E x edge_attr_dim).\n",
    "\n",
    "        Returns:\n",
    "        --------\n",
    "        torch.Tensor\n",
    "            The message to be passed for each edge (of size COMPLETE)\n",
    "        \"\"\"\n",
    "        E = x_j.shape[0]\n",
    "        messages = torch.zeros((E, self.out_channels))\n",
    "        for e in range(E):\n",
    "            ki, kj = edge_attr[e] // 3, edge_attr[e] % 3\n",
    "            source_features = x_j[e]  # Shape: (in_channels,)\n",
    "            \n",
    "            # get corresponding weights from the kernel\n",
    "            # (out_channels, in_channels)\n",
    "            kernel_weights = self.weight[:, :, ki, kj]\n",
    "            \n",
    "            # Shape: (out_channels,)\n",
    "            message = torch.matmul(kernel_weights, source_features)\n",
    "            \n",
    "            messages[e] = message\n",
    "        return messages"
   ]
  },
  {
   "cell_type": "markdown",
   "metadata": {
    "cell_ktag": "CTj5T8PSuiv4"
   },
   "source": [
    "## Test example"
   ]
  },
  {
   "cell_type": "code",
   "execution_count": 5,
   "metadata": {
    "cell_ktag": "CTj5T8PSuiv4"
   },
   "outputs": [],
   "source": [
    "from conv_as_message_passing import image_to_graph, graph_to_image, Conv2dMessagePassing\n",
    "\n",
    "c = 5\n",
    "h = 10\n",
    "w = 11\n",
    "\n",
    "ref_conv = torch.nn.Conv2d(c, 2, kernel_size=3, padding=1, stride=1, bias=False)\n",
    "image = torch.randn(c, h, w)\n",
    "g_image = image_to_graph(image, ref_conv)\n",
    "ref_conv.weight.data = torch.randn_like(ref_conv.weight.data)\n",
    "\n",
    "conv_mp = Conv2dMessagePassing(ref_conv)\n",
    "g_image = conv_mp(g_image)\n",
    "\n",
    "y_th = ref_conv(image)\n",
    "\n",
    "ref_conv.weight.data = torch.randn_like(ref_conv.weight.data)\n",
    "reconstructed_image = graph_to_image(g_image, h, w, ref_conv)\n",
    "\n",
    "assert torch.allclose(y_th, reconstructed_image, atol=1e-4)\n"
   ]
  },
  {
   "cell_type": "code",
   "execution_count": null,
   "metadata": {},
   "outputs": [],
   "source": []
  }
 ],
 "metadata": {
  "kernelspec": {
   "display_name": "Signal",
   "language": "python",
   "name": "signal"
  },
  "kfiletag": "CTj5T8PSuiv4",
  "language_info": {
   "codemirror_mode": {
    "name": "ipython",
    "version": 3
   },
   "file_extension": ".py",
   "mimetype": "text/x-python",
   "name": "python",
   "nbconvert_exporter": "python",
   "pygments_lexer": "ipython3",
   "version": "3.10.12"
  }
 },
 "nbformat": 4,
 "nbformat_minor": 4
}
